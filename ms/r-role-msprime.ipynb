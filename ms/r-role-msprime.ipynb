{
 "cells": [
  {
   "cell_type": "markdown",
   "id": "9133a964",
   "metadata": {},
   "source": [
    "## Running msprime simulations for a RoLE model\n",
    "\n",
    "This notebook assumes you have msprime installed. If you want to run the notebook example you need\n",
    "to also install several other packages to make the notebook work (see below).\n",
    "\n",
    "Install msprime:\n",
    "\n",
    "    conda install -c conda-forge msprime pandas\n",
    "    conda install -c bioconda python-newick\n",
    "\n",
    "Install for testing and dev inside jupyter notebooks:\n",
    "\n",
    "    conda install -c conda-forge rpy2 r-irkernel"
   ]
  },
  {
   "cell_type": "code",
   "execution_count": 24,
   "id": "ec84983d",
   "metadata": {},
   "outputs": [
    {
     "data": {
      "text/html": [
       "1e-06"
      ],
      "text/latex": [
       "1e-06"
      ],
      "text/markdown": [
       "1e-06"
      ],
      "text/plain": [
       "[1] 1e-06"
      ]
     },
     "metadata": {},
     "output_type": "display_data"
    }
   ],
   "source": [
    "library(roleR)\n",
    "library(ape)\n",
    "library(reticulate)\n",
    "## Assuming this function is available to me\n",
    "newick <- function(phylo){\n",
    "     ape_tree <- as(phylo, \"phylo\")\n",
    "     write.tree(ape_tree, file = 'temp.nwk', append = FALSE, digits = 30, tree.names = FALSE)\n",
    "     nwk <- readChar('temp.nwk', file.info('temp.nwk')$size)\n",
    "     unlink('temp.nwk')\n",
    "     return(nwk)\n",
    "}\n",
    "## init_type may be bridge_island or oceanic_island\n",
    "p <- roleParams(individuals_local = 100, individuals_meta = 10000,\n",
    "                         species_meta = 10, speciation_local = 0, \n",
    "                         speciation_meta = 0.05, extinction_meta = 0.05, env_sigma = 0.5,\n",
    "                         trait_sigma=1, comp_sigma = 0.5, dispersal_prob = 0.01, mutation_rate = 1e-6,\n",
    "                         equilib_escape = 1, num_basepairs = 500, alpha = 10000,\n",
    "                         init_type = 'bridge_island', niter = 100000, niterTimestep = 10000)\n",
    "model <- runRole(roleModel(p))\n",
    "#localComm <- model@modelSteps[[targetStep]]@localComm\n",
    "#print(slotNames(localComm))\n",
    "#localComm@indSpecies\n",
    "model@params@mutation_rate"
   ]
  },
  {
   "cell_type": "code",
   "execution_count": 42,
   "id": "64a90a22",
   "metadata": {},
   "outputs": [
    {
     "data": {
      "text/plain": [
       "completed (run) RoLE model with 100000 iterations "
      ]
     },
     "metadata": {},
     "output_type": "display_data"
    }
   ],
   "source": [
    "## Assumes you are passing in roleModel which has been run\n",
    "sim_seqs <- function(model){\n",
    "    source_python('role_msprime.py')\n",
    "    #exp = as(model, \"roleExperiment\")\n",
    "\n",
    "    ## the timesteps at which data were recorded\n",
    "    ## TODO: Doing it this way because the as() above is broken atm\n",
    "    iterations <- c(0, which(1:model@params@niter %% model@params@niterTimestep == 0))\n",
    "\n",
    "    ## Global parameters\n",
    "    J_m <- model@params@individuals_meta\n",
    "    mu <- model@params@mutation_rate\n",
    "    sequence_length <- model@params@num_basepairs\n",
    "    \n",
    "    ## For each snapshot\n",
    "    for (idx in 1:length(model@modelSteps)){\n",
    "        ## Fetch the data that we need to run the msprime simulation\n",
    "        ## Current time in timesteps (necessary to get divergence counting from t_0)\n",
    "        ## TODO: If as(model, \"roleExperiment\") works then you can do this instead.\n",
    "        #curtime = exp@experimentMeta$iterations[[idx]]\n",
    "        curtime = iterations[[idx]]\n",
    "\n",
    "        ## Prior to iterFun it was done this way:\n",
    "        ##J <- model@params@individuals_local[[idx]]\n",
    "        J <- model@params@individuals_local(idx)\n",
    "        alpha <- model@params@alpha(idx)\n",
    "        \n",
    "        metaTree <- newick(model@modelSteps[[idx]]@phylo)\n",
    "        metaAbund <- model@modelSteps[[idx]]@metaComm@spAbund\n",
    "        \n",
    "        localAbund <- model@modelSteps[[idx]]@localComm@indSpecies\n",
    "        spAbundHarmMean <- model@modelSteps[[idx]]@localComm@spAbundHarmMean\n",
    "        localTDiv <- model@modelSteps[[idx]]@localComm@spLastOriginStep\n",
    "\n",
    "        ## Returns a dataframe with rows for pi, TajD and genotypes\n",
    "        res <- py_msprime_simulate(J_m, J, curtime, metaTree, metaAbund, localAbund,\n",
    "                                   spAbundHarmMean, localTDiv, alpha, sequence_length, mu,\n",
    "                                  verbose=TRUE)\n",
    "        \n",
    "        ## Update the model with the results\n",
    "        model@modelSteps[[idx]]@localComm@spGenDiv = unlist(res[\"pi\",])\n",
    "        model@modelSteps[[idx]]@localComm@indSeqs = unlist(res[\"gtypes\",])\n",
    "\n",
    "    }\n",
    "    return(model)\n",
    "}\n",
    "res <- sim_seqs(model)\n",
    "res\n",
    "#model@modelSteps[[10]]@localComm@spGenDiv"
   ]
  },
  {
   "cell_type": "code",
   "execution_count": 29,
   "id": "02e91376",
   "metadata": {},
   "outputs": [
    {
     "name": "stdout",
     "output_type": "stream",
     "text": [
      "    t1     t2     t3     t4     t5     t8 \n",
      "0.7484 0.7250 0.6630 0.7102 0.6296 0.1228 \n",
      " [1] 65 19 10  4  1  0  0  1  0  0\n",
      " [1] 0 0 0 0 0 0 0 0 0 0\n",
      "t1 t6 \n",
      " 0  0 \n",
      " [1] 99  0  0  0  0  1  0  0  0  0\n",
      " [1]    0 9417 8211 5594 6646 9978    0    0    0    0\n",
      "[1] 0.0024\n",
      " [1] 100   0   0   0   0   0   0   0   0   0\n",
      " [1]     0 18340 19000 12746  6646  9978     0     0     0     0\n",
      "t1 t2 \n",
      " 0  0 \n",
      " [1] 94  6  0  0  0  0  0  0  0  0\n",
      " [1]     0 29135 29442 26208 26634 23488     0     0     0     0\n",
      "    t1     t5 \n",
      "0.0016 0.0000 \n",
      " [1] 99  0  0  0  1  0  0  0  0  0\n",
      " [1]     0 39846 39338 39072 39964 39594     0     0     0     0\n",
      "   t1    t6 \n",
      "0e+00 8e-04 \n",
      " [1] 80  0  0  0  0 20  0  0  0  0\n",
      " [1]     0 49159 48675 48886 45776 40800     0     0     0     0\n",
      "    t1     t2 \n",
      "0.0024 0.0000 \n",
      " [1] 98  2  0  0  0  0  0  0  0  0\n",
      " [1]     0 59828 58084 48886 59042 58565     0     0     0 53476\n",
      "    t1     t2 \n",
      "0.0056 0.0000 \n",
      " [1] 71 29  0  0  0  0  0  0  0  0\n",
      " [1]     0 59828 68517 67786 69275 58565 65689     0     0 53476\n",
      "    t1     t3 \n",
      "0.0032 0.0000 \n",
      " [1] 99  0  1  0  0  0  0  0  0  0\n",
      " [1]     0 79412 79993 76162 73963 58565 65689     0     0 53476\n",
      "[1] 0.0016\n",
      " [1] 100   0   0   0   0   0   0   0   0   0\n",
      " [1]     0 89807 87672 86074 88084 58565 82942     0     0 53476\n",
      "    t1     t2 \n",
      "0.0016 0.0000 \n",
      " [1] 86 14  0  0  0  0  0  0  0  0\n",
      " [1]     0 96918 94669 97901 96720 58565 96226 98349     0 53476\n"
     ]
    }
   ],
   "source": [
    "## Check the results\n",
    "for (idx in 1:length(res@modelSteps)){\n",
    "    print(res@modelSteps[[idx]]@localComm@spGenDiv)\n",
    "    print(res@modelSteps[[idx]]@localComm@spAbund)\n",
    "    print(res@modelSteps[[idx]]@localComm@spLastOriginStep)\n",
    "}"
   ]
  },
  {
   "cell_type": "code",
   "execution_count": 23,
   "id": "07577976",
   "metadata": {},
   "outputs": [
    {
     "data": {
      "text/plain": [
       "An object of class \"roleData\"\n",
       "Slot \"localComm\":\n",
       "An object of class \"localComm\"\n",
       "Slot \"indSpecies\":\n",
       "  [1] 1 2 1 4 1 1 5 2 1 2 1 1 5 2 1 7 3 2 1 2 3 4 8 1 1 1 2 1 1 1 1 4 1 1 1 1 4\n",
       " [38] 2 1 5 1 1 1 1 1 3 1 2 1 4 1 2 1 1 2 2 1 2 2 2 2 7 2 1 2 1 4 1 4 4 1 5 2 4\n",
       " [75] 1 7 5 2 1 1 4 1 3 1 2 6 4 1 1 3 5 1 1 2 1 4 1 1 1 1\n",
       "\n",
       "Slot \"indTrait\":\n",
       "        t1         t2         t1         t4         t1         t1         t5 \n",
       "-18.550070 -16.498726 -18.550070 -51.161217 -18.550070 -18.550070  -7.093114 \n",
       "        t2         t1         t2         t1         t1         t5         t2 \n",
       "-16.498726 -18.550070 -16.498726 -18.550070 -18.550070  -7.093114 -16.498726 \n",
       "        t1         t7         t3         t2         t1         t2         t3 \n",
       "-18.550070 -19.915956   2.906249 -16.498726 -18.550070 -16.498726   2.906249 \n",
       "        t4         t8         t1         t1         t1         t2         t1 \n",
       "-51.161217   4.699591 -18.550070 -18.550070 -18.550070 -16.498726 -18.550070 \n",
       "        t1         t1         t1         t4         t1         t1         t1 \n",
       "-18.550070 -18.550070 -18.550070 -51.161217 -18.550070 -18.550070 -18.550070 \n",
       "        t1         t4         t2         t1         t5         t1         t1 \n",
       "-18.550070 -51.161217 -16.498726 -18.550070  -7.093114 -18.550070 -18.550070 \n",
       "        t1         t1         t1         t3         t1         t2         t1 \n",
       "-18.550070 -18.550070 -18.550070   2.906249 -18.550070 -16.498726 -18.550070 \n",
       "        t4         t1         t2         t1         t1         t2         t2 \n",
       "-51.161217 -18.550070 -16.498726 -18.550070 -18.550070 -16.498726 -16.498726 \n",
       "        t1         t2         t2         t2         t2         t7         t2 \n",
       "-18.550070 -16.498726 -16.498726 -16.498726 -16.498726 -19.915956 -16.498726 \n",
       "        t1         t2         t1         t4         t1         t4         t4 \n",
       "-18.550070 -16.498726 -18.550070 -51.161217 -18.550070 -51.161217 -51.161217 \n",
       "        t1         t5         t2         t4         t1         t7         t5 \n",
       "-18.550070  -7.093114 -16.498726 -51.161217 -18.550070 -19.915956  -7.093114 \n",
       "        t2         t1         t1         t4         t1         t3         t1 \n",
       "-16.498726 -18.550070 -18.550070 -51.161217 -18.550070   2.906249 -18.550070 \n",
       "        t2         t6         t4         t1         t1         t3         t5 \n",
       "-16.498726  -2.381815 -51.161217 -18.550070 -18.550070   2.906249  -7.093114 \n",
       "        t1         t1         t2         t1         t4         t1         t1 \n",
       "-18.550070 -18.550070 -16.498726 -18.550070 -51.161217 -18.550070 -18.550070 \n",
       "        t1         t1 \n",
       "-18.550070 -18.550070 \n",
       "\n",
       "Slot \"indSeqs\":\n",
       "                                                                                                                                                                                                                                                                                                                                                                                                                                                                                                                   t11 \n",
       "\"CATGATAGCCGTTCAGCAACGGAGTTCAAGCTTGCGTATTCCAATACGGTCATTGCGACAGTTAGATCTTGGACATTGTATGCATTTGCGCTATACAGTAAACACCATAAAAGAACCGTAACACAACGTCGAGCCCACGCGATGATTGAAAATCAGCATCGCCACCACCAGCGATGTTGTCTTGAAGGGACGTAGCCGTTCACAGTGATCACAAACAGATCCTGATTATCCAACATATGCAGGCGACAAACAACCTCTTTGACAATCCAGACTAATTTCCATCCGAAGCTGCAGCGAGATACGCTCCCAACGGTGCGACCGGGTTGCCAGGCAAAGGAAAAAAGAAGTTCGTCTTAGCAAACAGCAGTCCAGAACCACCTATAGACGTGTCATATGGCCGTTTCCAACCGAAGAGAAATGAGAGAATAGTCTCCTGACAGGCCCTTTCCCGATCTAGCCCTCGAGCTAGTTAAAGACTGCTAGCTGATTGGCTGCCTTCC\" \n",
       "                                                                                                                                                                                                                                                                                                                                                                                                                                                                                                                   t12 \n",
       "\"TTTCAGTCATTGTAGAGACTTCTTAATGTATAAACAAAGCTTGTTGACAAGCCCAGGCCCAAGTCGTTACCTAGCCGGAGCGATGTTTGCCCAATAGCTCAGACCGGGGCCTCACCTCAACTCATAGTCGATTTAATTGTAAACTCGTTCCACGGTGATCCGACAGCTCACTGATTAAGCTGTAATATTGACTAATCGGCTTGCGCTTGCCCCGAGTTCGATGCTGCTCGGGCTTGTCGGCGGTGTTTCTGCCGGTAGGCTTATTCTAAGCGGGCACGGGGATCGAAGGAGTAAGCCTCCGGATCGTACCGCGTGGAGGAGTCCCCGATTCCTGAAGGCCCCTTGGTTATATAGCCTGCAAAAAAGTGCAGTGTGAAGCCTGCGGGCAAACCGTTACTCATCCACTTGTTGGGACAGAATTTGAAGACGTACTACGCTGCGGCGTTGTGCTCGTTATTTGAAAACAGTTAGCCGTCAGGCAAATAAGAGAACGAAGCTTG\" \n",
       "                                                                                                                                                                                                                                                                                                                                                                                                                                                                                                                   t13 \n",
       "\"GACGATTGAAATGGAACAACTGATACAACGCAACTCCACTGAGCCTTGCCCATTTAGACTCCAATGTACAATTATTACCCGCTGTCACACGAATGCACTTAATGCCTACCTGCAACGCCCATGCAGATTGCACAGGTTTAGCTTCGGCCTCCTATTGCGAGTCATCAGTGACCTCATGGCGAAAGAACTAAGATTCCACTTAATAGGGTTCACGCGCCCGGGATATCATGAACTATGGGCTGGACACCACCTCAGCGCTTGTGAAATGTGTGTGGACAAGCACCCTAACCACAGAAATTCTTGGGTGGCCTTTAAGATGTATCCCTGTCATAAGCTGTTACCACCAGATCTCCGGCGCGATAGCACGCCACCCAGAGGAGGCCGATGTTCATGATAACGCTTCATCTTAGGTTATCAGCGTAGAGTATACATGCTATTAGTCTGTGGAGAGCTCTGCAATGGGTCCCAGATTTTATTAACAGAACTTTTCTGCTGCGGAC\" \n",
       "                                                                                                                                                                                                                                                                                                                                                                                                                                                                                                                   t14 \n",
       "\"AAGTTTTGTCTTAGTGCGCAGTCCTATCCCTCCCCTCACTGGAAATCACAATCGGTCGTTAGGTCAGCGGATCCCGTGCTACTCGAGACGCGCCGCTGCTAAACACGAGGTACAACCGCTAGGGGCCGAGTGGTATGCGATTGTTGATGCGGAGTTTCATCGCCGCCTCCTAAGTCGTCGACACCACCGCGATGTAAGCGGTCGGGCTTGGTCACACAACTCCTTTCGTCCCTATCATGCTCAATGTGTTGTCAATAGCTTATTGTAGCACAACAGATGCAACTCGATTAAGGCAGTGTCTCTTGTTGACGGCCAATAGAATGAAGTACTCAGAAGACAAATCCTAAGTGGGCCGGAGGACTTTCATGATTTCGTTGGACCACGGTTAGACGGAGCGGCCAAGGACTCCTAGTCAGATAAAGCTAACTGGCGTAAAGAAAGAGGGTACACGGGCAAAAATTTGAGCTCAGGCTAAGGCGGTACATGGAATAAGATTGTAG\" \n",
       "                                                                                                                                                                                                                                                                                                                                                                                                                                                                                                                   t15 \n",
       "\"ACGATGTGACGATAATCCGTTTGAATGTTTTCTGGCGAGACGATCGTAGATCGGGTGTCTAAAACTGCGCTGGAATCGAATCTCGGGGAGATCACGCTTTCCACACGGGCCAAGTTATCTTTACTTAGTGCCAAGCCGGGCAGTAACGCACTTCTGCACCTAGCTCGAGAGACTATTGGCACCTGAGAGTACGATACACTATAATAAAAGCTAGGATAGAGTGATTCACGCGAGTGGCGCCGAGCTTGGTACGACTGCAGGTAGGTGCAGCAAACCTCGACGGCCTACCTTCAGGTCGATAAGAATTTTCAGGTCACTAAAATCGTTAATGAGGTATTCTTTTTTGACTATCTCGCCCCTTGGTGGTCCAGATTGGTCAGCCTATGTTAGTCGAGAACCTACGCCTGCCGAGATCGATAGACATGCCGGGTCCCAAGCAGGCCATAAATTCCAAACTTATAGGGAGCATCTCGCCATTGTGAATAGGAGGTGGATGGCCA\" \n",
       "                                                                                                                                                                                                                                                                                                                                                                                                                                                                                                                   t21 \n",
       "\"CCATTTAAATCCAACGCACCCCAGAGGCTCAGATCCAGAAATTTGTAATGGTGGGATTGTACAACTACATGCGGTGGACACGGCCGGCTAACACCAGGGAAACCGTCACCTGTATCTTGTAGAAATAGCTGTAATATAGTTTCGACTGTACGGTCATAATAAACGCACTCCGGCCAGCAAGGTACCCTATTTACTAACTGTGACACACTGTATAGTGTACACGAGCGTATGGTGATTAACAAGTTATGGGCGACGGGCATCCGCTTTGGTCCAACGACAGCAGTTTGAGCGTACGGGTCCCAGCTTTGGGGCCTGACCAACCTTAACCTAATTTGTGCCCCCGAACTACGAGTAGGTAATGCCTAGGACGCTAGCATGAGGTACATCTATATTAAGCCCAGTGTGTTTGTTGCTCGCAAGTTTAGAGATCCGTAAGTGTTTTTCCTCATCTAGAAAGCCTCCAGCAGCTGCACGGGGATCCACTCCGTCATTTCGACTCT\" \n",
       "                                                                                                                                                                                                                                                                                                                                                                                                                                                                                                                   t22 \n",
       "\"CTAGGCTGAAGATCAGGATTTTGCTGGGCGAGTCTTTAATCGAAATTTACATGCGTGGACAAGCGTCCCGAGTTAGGAACGATCGCTAATCTTTAATGAGATGGCAACGCGATGGAGGAGCTTAATGTCGTCTCAATATCCCTGCCGGCTATGTCACCGTCCGGGCCTGGCATTGTTCCACCGGCCCTTAGTTAGCCTTAAACGGGTCGGACAGTAATTGATCCAAGCGCGACTTCCTCCCGTGTGGTCCTCGGGGTTTCGTGCTCCCATTCCTTGCGGTATATAATAGAGTTAAAATACAAACGCGATGCGGAAGGGGCATATATACCCACTTCGAGACATGTGACTTCACCCCGAAGTCAAGGATGGGATAGCAAGCCAAGAGACCAATTCCGATTCCTCTGGTAGGAAGTCGTCAGCATCACCTAGTTTACCGATGCCGGATATAACTCGTCGCACCAAGATCTCAACCACGCACCGCCCCTTGTAGTGTTAATCGC\" \n",
       "                                                                                                                                                                                                                                                                                                                                                                                                                                                                                                                   t23 \n",
       "\"AATGACAGACCATCGGCCACGCACCGCCATATGTTAGACCTTCGTTTTGTAAGATTGACTCCTATCTTGGGTTTCTAGGTCTAGGCCTCGCGGTACTCTAGGAGATAGTGAGGATCTAATACCAATATTGGCACAACAAGTGGGAGGGTCCTGCATCAGCTCGTGGTTTGGAACCTTTTCTAGCGTTTCACTATCCCCGACCGTTCTATTACCCAGAGTCGCCTTTTCCATGTGCAGCGAATTCCGCCAACCACTCGGTCCGTAACACTATTCGTAGACCCCTCGAGGCTACACGCAAACAGCATGGCTGGCGTACCGTGCAGATTTACTCCTGGCCGACCTTTTTAATTCCTTGTGTGCCCTGCAGGGGTAATTAACGCGCATGGGTGAAGCCGGTCGAGCATAACTTGTCGCGGTACAGTGCGGCGGCTACGCCGGCTTTCATTAAGCTCTTGCGGGCCGAACGTCTCGCACTGAATTGTGCGCTATACAGTCACGAC\" \n",
       "                                                                                                                                                                                                                                                                                                                                                                                                                                                                                                                   t24 \n",
       "\"TTGCTATGCCTCTGCATTATGGTGCTTATTGAGCTTATCATCCATTTAAAACCATCCACCATGCTTCGCCGTGAATGAGCAGCGCAGGGCTTTAGATGCAACATTCTTCGTGTCACCGAGATCCGAGCCATAAGGGTCCAATACGGTTGCAGCGAGACCGTAGGAAAGCTGTGATAAGAACACACGTACCAAATATCACCCGCATCACTCCAAGCCTATATATTGGGTCTCGCCCTGGCTATAGTGCGCCCTCTTATCTAGCCGCGGTGCAACGTGTCAGACACTAACCCCCTTGCGAACACATTCCTAGGTCTTACCCAACGGCCAACAACGTTATCATCTCCGCAGGCGGGCTTGTTTTCCCTCCGAAAGCCCTATAAATGGCCTTTGTGACTCAGAAGCCCGCGGCTTCAGGAACTTAAAATTGATGAGCCAAGCGGACGGCGATGACTATTCGGAGACCCAGCAATGGATTGAACAGTCTATGAGCCGTAATATAC\" \n",
       "                                                                                                                                                                                                                                                                                                                                                                                                                                                                                                                   t25 \n",
       "\"TTGTCTAGGCTGATTGTCGGCGTCCAAGTAACTTTAAAGATGATGGTGGCACTACTACCAGTCTGCCGCCCGGAGATGCGCCCTGGCAAGTTTATGTGTAGTATCCATTACTTCCACATCTCTCAGCACTGTATATATTCTCCTATACCACTGTGAACGGGGCGGAATGAAAACTGCACTCAAACCCGGTAGGCCTACCTTCCGCTCTAGGATTGGATATAGTTCGGGATAGTGCTGGTTGGGACGCCCCACGAACATTTGATAATAATCAGGTGGTCCAATTAGTTACCTTATTTGAGAGTATTAACCTCGAGTAACCCGAAGTAAGCGCCCAGTGTGTGTCTCCAGTGGACGCTGTGCCACAGCCAGAGCGTGCGTATGAACCACTTTTGGCTATGGTACTCTCTCTTAGGCAGCAACGACCTTAGGCACCAGTACAGACTCGGGCGCTAACTGCGACGGGAACAGGAAGGATGAGCGTGTCTCCACCATCGCTGTTG\" \n",
       "                                                                                                                                                                                                                                                                                                                                                                                                                                                                                                                   t31 \n",
       "\"ATCGTAATCGTAATCAGTGACTCGCTTGTTCGAATAATGATAAGTTTGCTCGCACTCGCCACCTAATTGTGTGTCTCTGGCTTCGTGTATGCGAATCTTTAACAGTATCATTGTTGCGTGTCTCGCAGAGCGAGGCCGAGAATAGCCAACTGCCTTTTGTTAACACCTTCCTACAATCTGGCTGGCACAAGACAAGACTGATGTGAGTTTATTAGCAGATATGCACGTAACCGGAAGGGTCCCTGCTTCATGGTACGGCCGACTTTAGGAAGTAAGTCCGTCCAACCCCGACCGTAACACTACGGGGCACCCAAGGCTCCATGCTTCACAAGTACGCTAGTGAGCTACTATGCGCAATGGCTTGTTCCTTAAATCTCATTGCAGAGCAATCACGCAGCAGTCGTAGCGGCTCGACTTACCTCAAGGGAGGCTAGGTTTCGGCTGGGAGTACTCACCATGTGTCTACACTAGCTTTATAGGCGATGGCTAGCAAGCTTCGG\" \n",
       "                                                                                                                                                                                                                                                                                                                                                                                                                                                                                                                   t32 \n",
       "\"GCCAATTACGGGGTGCAAAGCCTTCGGAGGCATAGAAAAATGCTGTCTGGAGGGGTTTATGTGATGCGCCAGTCGCCTCGCAGACTACCTGGGCGGGCATCTTTCGCCTCTGAAACTCCGCACGTAGTAGATAGACGCTCTTTTCTTCCGCACATACAAAGTTCCCGTTAATGCTTTAACCGATACCGTTCTCAGTACTCGGCGGTGCGTTACCGTGCGAGTTCGAGCTGCGCGTAGTGTAAATATGGCCCCCCTAGATAACCGGCTAAAGGTTTTCAGCCTTCCTCACGAGTGACACGGAATCAGGCTCATGTCGCTCATGAGGATAGGCCGCTGACGTAAAGACCTGAAGAGTCGGACTGACGGTGTGCAACATGACACCCTCTAGTCGAGAGTCTCTTTCGGCCCATGTAGTATCGCGGCAAGCCTCAAGGTCCACAAGCGGACATGACGCTGAGGGTAAGCTACCTATACAGGGAAACAATTGACGGCAGCGGGTG\" \n",
       "                                                                                                                                                                                                                                                                                                                                                                                                                                                                                                                   t33 \n",
       "\"ACTGATCCAATCAAGCGGAATCTGATTTGTAGTGAGGAAACCGTCCTGTGCTCCCGCGGTCTATGACGTCTATAACGGTCGCCTGGCCGATTGCGACCGAAGGATCCAAGCGAGAAGCACAATGGAAGCGTGAAAGCTACGTGAGGACCGCGTCAACCATCACCGCCAATGGTCACTGCCAGGTAGACCTAATTGCACAAAAGTGTACCCGTGAATGCAGCTCGGCCGGCAGCGTGGGAAGATAGTCCGTAGAGAATTTACTAGGTTTGTTAATGCTGATATTCTAAGATCGCTGGATTTCGTGCGAACCAGCGGGAGATAGTATTGTTGCCCACTTTGGTATCACAACATCTGTGATCGTGCTCTTGCTACTGCGTGCAAGTATGTCTTGCCACAGACGGGAGGGCAGGTCTGTTCTAGACATTGTTTTCCCGCTCTAAGTACAGAGCGTTGGAGAATGGAAGACCCAGAGATTTCGAGTTCGTCGCTCCGCGACGTCT\" \n",
       "                                                                                                                                                                                                                                                                                                                                                                                                                                                                                                                   t34 \n",
       "\"GTAGTTCTAGCCGACCGGTACCGGGACTCAACCCTTAGATATCTCTGCATAACCTGGTGATCAGGGAACGCATCAAGGGCCGGCCGGCAGAAGACGTGAGCCCTCCGTTACCTGTAATGGACATTATTGATAAAGGATGACTCCTTCAATAACTACAGTGCGAAGAACAGATATTAAAAGCATCGGACTCGATATTGGTCTAAGTGTCCCGAAGGCCGTCAGGGGCGTCGCACAGTTTATTAGCCTGGGAGCAGAGTGCCGAGAATGACTTTATAAGTGCGGACCATATTCATGAGCGCAGCTTGTTGATACTAGATCGAGCTGGGAGCCATTACGTAACTTATAACACCATGCTTCGGCCCCCTTGTGTCCTATTTGTCCTACAACCTGTGAGATGACATGAGTTAATCAGCCGCACGCCGCCTTTTCATGAGAGGACAACTGCTTAATAGGCTGCGCGGACCGCCGGATAGTCCATAACGTCCCTACTTGGATAACTA\" \n",
       "                                                                                                                                                                                                                                                                                                                                                                                                                                                                                                                   t35 \n",
       "\"TTTGTTATTGTCATCATGGTCTCGCCTAGTCGTACAATGCGGCGCTAGGCCGTTCTCGCCTTGGTACATCATGTGACGGGTTGCGTGAATCGTAATATTTAACAGCATCAGCCCTGCGTATGTCACAGCGACCGTGCGAGAATGGCCAACTGCCCTTCGTAAGCGACAACTTTACAACCTGTCAGCGCTAGACTATAACTATAAGAAGTTCCGACAAGATAAGTGCGTATGCTGTAGAGTCCCAGCGCCTTGGCATCCACCACCTCATGTACTCAATATCACGCACCAGCTCCGTATAACTTCCTGCTACCCAAGGTTTGTCTCCCAAATAAGACAAGAGTGAGCTTCAAGGTTCTCGGCCGTGTCTTTATAAACCGATTTCTGGTTCAGCAAGTGGCAACCCTTCCGTATTGCGCTCTTTTACAGTAGGGTCAGAGTACAATGGGAGGATGGATCATCAGGGTACACGAATTAATTCAGCGAGAGCAACAAAGCACGGA\" \n",
       "                                                                                                                                                                                                                                                                                                                                                                                                                                                                                                                   t41 \n",
       "\"GTATTTGGCACATTTAATACAAGTCCGCTTGATTAAATGAATGCCACGAATTATTGCATGTGTAAAATTGCGCGATGGGACATGACTCCTTCAAAGCACCAAACCGGGTTTAGGGCGAGGGCGAGCGCCCTATTGGCCAGCGCCCTTTGTTCGAATCAAGAGGGAGTCAAGCCCGATCAAAGCCGGTGTTTCGAACACTTCCCACCGCGAATCCGTTGCCATGGCCATATAATCCATTTACCTAAAGTTCTCACAGAGTCCCAGGCATAACACGCCCGACCGGAGCTTTTACTCCCGACACGGCAGAGCCGCGGGCAATTGAGCTCTTGCTTGCTCCGCGGTGAATGAAAGCGCAGTTGCCGTTAACTATACCGGACTGCACGTGTGGTCAGTCATTTTCTGCCTACCTCGATAGGATATGCCCTCTATGATAGTTTGGGTGAGTACCAGAAAGAACCCCGGAATCGTTTCGTCCCCGTGGGCTGGCGATTCTGCCCTTT\" \n",
       "                                                                                                                                                                                                                                                                                                                                                                                                                                                                                                                   t42 \n",
       "\"CTCGTATTGATTGCCAGTCCCACCCATCCAGTATACAACTAGGGACGAGGCAGCTTTCAAGGTATATATTTGGATCCCAAATATACGCGTTCCCCTTATCCGCTGCGGTTTCTACTACCCAGTGGTTAACTTAACGAACATTTGACGTGGGAGCCCACTGCCAAATTCGCCCGTGAATCTGATACTTTCTCGCAGCGCGCTCGTAGAAGAGGGGATGTCCGTAGTATGCCTGTCATGACCAGTTGCCAGGGTACCAGACTACGCGACCTCCGAGCTGAAAACTACGTCACGAATATGGTAAAGTTGTTCCGTCAGAGTGTATGCAAAACTCTCTCGAGCGTACGCCGTTTCCAGAGGGTGATAGGCGTACTTATGTGCATTCGTGTAGTTGACTAGCGCCACACCAAGGGTGTCGTCGTCGCGTATATTAACAACACATTTTTATATCATTGAAAAGCGTGCACTCACACAGTTTTCAGCAGTAGAGCCTTACATGCCAG\" \n",
       "                                                                                                                                                                                                                                                                                                                                                                                                                                                                                                                   t43 \n",
       "\"GGAATAACGGCGACCTGATCGATTTGGTGGTTAGCCGATGTTGGCGTGGTGGCTGTGCAGCTGGTCCCAAGACTATCACCCCACAGACATGATATCTCACTATCAATAATTCCTTGGTGAAATCGTCCCTGATACCGATTAGAGCATGGCCGATATCAGACGTCGATACAGGCCATTTCACGTTCGCGATCCAGCGCGATTGCCATGTTGTACAAAGCGCTGTACGCTGACTATGATTACCGTAGGCACAAGTGGTCGTCCCAACCGCATCGTGACATGGAGTATTTAAATGCCATCTAAATGGCCGGTCCGAAATTTTGGGGATCCGATTCTCCTTCTGCCCAGGTTCCGCTGGTCCAGGGGGCGAATCTGCGAATTTTACCTGGTGTGACTGCCGGGTTTGAGGGGCGCGTTCGTACACTTAGTCAACCCTTTTGGCGAATAGTGACATTTTCCTCGTACCCAGAATCGGACTCGCAATACGGAGCGTATGCAATCGG\" \n",
       "                                                                                                                                                                                                                                                                                                                                                                                                                                                                                                                   t44 \n",
       "\"TTTACGGCCATACATGCACCAGGTCTACGGCAACACACTGAACACAACCGTAGCACCGGCGGCGCAGTGACGTTTAGCCTGTATAATTCGTTGGTCTTAGTTAGAGTAGCTGACAGCCGCCATGCCAAATCAAGCCCTCAAATTAATGCGATCATGCACGCGGGCGAAGCGCAGACAAGTCGCGATTGTGTCTATGGAGGGATCCCCATGCGTTAGGAATCGCGGCCTAGACTCGCCATAGACTCCGTACATCGGTAGAGACACGGATACAAATACGTATGTCGGTTCCGGGGTCTGAACATACTATAACGGTTGTCCCACCAGGAATTGTCGTGCATACAGTTCATGCAAACCCAGCAATGTGTCGATGCTCCGTCAATGCGAAGTTAACATCCCCACTTATAATACCTTCAAGAGTGATAACCGAGGTGGAGGAAAGCGATTTCGGTTAGAGCTTATCCAGTTGCGTCTGGTTGAGGCCGGATTATCCGCCGTAAACA\" \n",
       "                                                                                                                                                                                                                                                                                                                                                                                                                                                                                                                   t45 \n",
       "\"GTCGGACCCCCATAGCAGAAGGTGCAGTCACGATCGATTGCGGTTCAGGAGGAAGCTACGACCACCCAATTTTTGTGTGCCCCGTGCAGCACTAGAGCGCCCGCGAGCCACGCTTGTGCGTACCCGACGCTTTTACCGGGATTGCGCTGTCCGACTACAACGCACCCTACGACGGCTAGCGATATATAGCCCTCGACCGGTGTGCCTCAGTCGAGAACGACCGGAGGTACAGGTTATGAAGTAACATGTTGAAAAGCCGGGGGCCACTCTTGATGTGACAGGTACATGGGGGTCGCCAGTGTTTCAAGAGGGCGTGGCTTTCGATAAGGAAGTGGATTCGATTGGACATAGTAGCGGACGCCGCTGCCCAGACTTCCTTTAACCGTGCCAAGTCGTCTGACTGCCAACTAATCGACTTGTAACTCTTAACGTATCACTATGTCCGCCTCAAGGGACAGCCGTTCCAACCAAAGTTTTTCCATTGACTTTAAGAAGATGAG\" \n",
       "                                                                                                                                                                                                                                                                                                                                                                                                                                                                                                                   t51 \n",
       "\"CAGTTGGCAGACTGCGAACTGGGGAACACCTCATTGGTGGGTACGGTACATGAGATGGATTGTGTTGAAAGGGAATAGTTTTGAGACGCCTACGACTTTTGCGTTTCCGTGAAGCAATTGACCGGACTGCCAAAACCAAGTTTCAAGCCAGCTGGCATCACAGCCGTGTACACCACATAGAAGAGTCTTTCCAGCGAAAGGGCCTACCGTATGAGATAGTTCCCCATAGTCAAGGCGATACTAAGAATGGGCGAGCATACTCAACCTCTTCCCTACAAATTTGTTAGTAAATGCGCGTGCGCGGGCTAGGGAATTCGTTAGCGGTTTGTCGGCAAGTATTAATCATCGTTTACTTCAGGTCGTTCACGCATTGAATTCGGTGCGCGCATACTTAACGGGGAAATGGTACTTGAATCCTTTATCGTATAGGTCTCATAAGCGACATCTATTTGCTGAAGCGAAGTATATCACTGTGTGTGACCTCGCCGCAGAACCTGATT\" \n",
       "                                                                                                                                                                                                                                                                                                                                                                                                                                                                                                                   t52 \n",
       "\"CCGGCTAATGGGACTGAAGATACATAGGGCTACGCGCAAATACCCACAAGCTTTTCTACCGGCACTCTAGCGGCAGCAGCAGCAGCCCCGCCCTTGCGTCCGACCCAAATAGCGGTTGATTCGTAATCCACCGATAGCGTCGAGTTTACGTCGCTACAAGGTGTCGTGGGCTTGAACTTAAGCGAACTAAATCTGATACAGGGATGACCTTTGTGACGCTCTGTGGGCACATGACGGACAGAGACGGCGGCGACTAGCAGAACACCATATACCCTTGGTTTTAAGTGGGGATGTATACTGTGTGTTTGTGTCCTCTGTTACCATAATTATTTGGATGATTGGCAATCGCTTCTAGAGCGTCTGTGGGTGACGGTTAACCGAACGATTACATAGCATCATCTCTAAAGGAGACCTATCAATGCCGTCACGACCAATGTTAGGGGTACACGTCCGACCGTAGCGTTCCACAAAAGTGTATGCAAAATGGGGATAACCACACA\" \n",
       "                                                                                                                                                                                                                                                                                                                                                                                                                                                                                                                   t53 \n",
       "\"CCGGGTCAAACAACTGTAGAGTCTTTAAACTATTCACCAATCACACCAATTTTGTTTTCCGCGCCTCTAGTGGCAGTAGCGGGAGCCTAGCCGTTGCGGCCGACCCAAAAAGCGGTCGGTTCCCAATCCCCCCATAGGAACGGGTCTACCTATCTACAAGGTGTCGTCCGCTTACTATTCAACGAACAAAATCTGACACTTGGTTGAACTTTGAGATGCGCTGTGCGACCATGAGGGACAGGGTCTGCGACGGCTGTCACATGACCATAAACCGTAGGTCTTCTGTGGGGATGTTTACTGCGGGATTGTATCATCTTCTACCAGAAAAAGAGTTATCATTTGCCAACGGGTCTAGAGCGTCTGTGGGTAAAGGTTAACGGGTAGATAACCCACCATCATCTCTAAAGAGGACATAACAATCTCCCCCCCTCCTATTTGATGAGCACACGTCCGTCTGAACCGTAGCAAATGAGTGGATGCAGCGTGGGGATATCCAGATA\" \n",
       "                                                                                                                                                                                                                                                                                                                                                                                                                                                                                                                   t54 \n",
       "\"CAGGCTAAAACAACTGTAGAGTCTTTAAGCAATCCACCCATCACAACAATTTCGTTTGAGGCCCATTTAGTGGCAACAGCGGGAGACCAGCCGTCGCGTCCGACCCACATAGCCGGCGGCTCCAAATCCCACCATAGGGACGGGTCTAACTACCTACGAGATGTCGTGCGCTTGCTATGAAACGAACTAAATCTGAGACTGGGTTGGCCTTTGAGATGCCCAGTGCGACCATGAGGGACAGCGACTGGGAGGGCGATCATATCACCATAAACCGTAGGTTTTCAGTGAGGGTGTTTACTGCTCTGTTGTGTCATCTGCTACTAGAATAAGTGGCATCATTTGCAATCGGGTCTATAGCGTCTTTGGGAAAAGGTTAACGGCGGTATAAACGACCATCTTCTCTAAAGAGGCCCTAACAATCGCCCCCCGTCATATGTTAGGAGCACACGTCCGTCTGAACCGTAGCACATAAGTGGATGCAACGTGGGGGTATCCTTATA\" \n",
       "                                                                                                                                                                                                                                                                                                                                                                                                                                                                                                                   t55 \n",
       "\"ATCGCTGACGAAAATGTAGAGAGTGTGATCTCGTCGCTTATACCTACGGTTCAGTAATCCGCAACAAACGGGGGAGCAGCTCCAGCCTCGCCGGGGCGTTGTATCCAATTAGCGGATAGTTCCTTTTGCGATAATAGGCTCGCTTTTAGTTTGCGCAAACTTGTCATGTGGTTACCATTACAAGTACTGAATATGTACGTGCCATTACCTTTAGGATCCCTAGTGCTGCCGGGAAGGTATGTCACTGCGACGATTGTCACTGCACCATTGAGTTCAGGGGCTTAGTGTAGGTACTTCCTGAGCTTTTGTTTCTTGTCCGCTAAGCAGAAGTTACCTCATGTGTAATATCTCCTAAAGCGTCTTTGTCTTAAGAGTAAATAACCGAAATCGGAGCTTCCTCCGTCCACAAGAAGTTACTATCCCTACTCGCCCAATCGGAGAGGCCCACTTCCGTCGGCAACTTAGAAGCGGCTTCCCTGGGACATAGGGGCATTGGCATA\" \n",
       "                                                                                                                                                                                                                                                                                                                                                                                                                                                                                                                   t61 \n",
       "\"TTATCGCCCTCTGTAAGATGCAGCATGGCCGAATTATTGAGAATTTCTTGCGTAATCCGACTTTCTTAGTGTAGGGCGATCCTTATTCCCGGCTTCTTCGTTGGCCTCTGATAGGCACAACCCCCGACGGCGCCGGGATAGTACTGATAGTCGCATTCAATTCTCTAATTTGGGAGGCTGAAGCGGACGCCTGCATCTATTTAAGCTCAAGAATTGTTCTTCAGTTAATTAAGACGAGCTTCAGGAGAATACACGCAACGATCTGAGGACCATCTTTGGCTCAGATAGTGGGGAACAATCTCTGGGGTTGAGTTATGCGGTCCCGATCAGAATTTTCGATGATAATCGCCTCACGACGCTCCACGGGCCTGAATCCCGCTTTCGCAAGTAGCTGTACTATTCAACAAAGGCGCCCAAGCTGATTCGCGCATTTCTCTCCACTAGAAGTGAGAAAAATAGTATCTCAAATTTATCGAAAATTATCATGAACGCGATCCCTT\" \n",
       "                                                                                                                                                                                                                                                                                                                                                                                                                                                                                                                   t62 \n",
       "\"GGTCTCCGTCTTTATTAGCACGGACATCCAGGGGATGTCATTTCTGTGCCGACGCTTCCGGTCGAGCCCGGCAATGGGTGTGGATATGTTCGAATTAGCTTTTTTGCGACTTCAATGCAATGGGTATGAGCAGCATACGCTAGATGCCAGGGATTTCGGATCATCTATGCATGAGCACAGTACTCAGCGATTTGAAATATAATAACATAAAGAGATGTAGACGTTATATACTGCCAGTGTAACAGGTTTCTGGAAGGCCTGAGCACCCTGTTCTTAACAATACGCTCCGATTACCATCGTTATTGTGTCCGCATGCCCATCCCAGACCCATTCAGTCAGTACACGAACGGACGGATCCCGTCATAGGGTGCGACCTTAAGAGACGCCATGGGATTGGGTTTATATCGACGTGTAATCAGGACGGCTAGGACTAGCGTAGACTTACATGGGCAGTGCAGTGTCTTGTCTTTAAAGCACACTAAAGGAGGGGTTAAAATCCA\" \n",
       "                                                                                                                                                                                                                                                                                                                                                                                                                                                                                                                   t63 \n",
       "\"TCACCTCGCTCTATACAACTCCCCATGGTGGAACGAGTGAGACTTTGTTGCGTATACGGACTTTTAGTGAGCAGGGCCATCCCTCTGCCCGCCTGTTCGGTTGTGCCCCGATACGCAGCACCCGTCAGGGCGCTGGGGTGGCGCTGCTAATTGCATCCACTTCCCTCATTTTGGTGGAAGAAGCTGCCGCTGGCATTAATTTAATCTCAAAAATCGTGCTACAGTTAATTTAAACGAGCTTCAAAAGAATTCACGCAACGTTCCGTGGAACACCTGTGGTGCATATAAAGGCGGATAAAATCAAGGGTTGGCTGAGGGGGTGCCGATCAGAATCTTCCAACATGAACGGCTCAGTACGCAGACCAGGTCGGCATCCCGTGCTAGTAAGTATCTGAACTATACAACAAAGGCGCCCAAACTGATTCGCGCATTTCTAACAACTTCACCTCAGAAGAATAGTATAGCAGTTTTATAGAAGATTATCTTGAGCGCGGTCGCGT\" \n",
       "                                                                                                                                                                                                                                                                                                                                                                                                                                                                                                                   t64 \n",
       "\"TCGCGCCGTGCCGTGAGCCATTCGGATAATGCGCAGCTAGGTTCACCGGGTGGTACTTGTTAGGTTTGTTCGGTCGTAATCAGTTTGACCATGGGCATTCTGTTATAGTGAGTTATGCCTTGTTCGTCAAGGACACTAATCTCGGTCAGATGATATTATCGTTACCCCATCGTGCAGCGACAGATTTCGGTTCTCGATGTCAGAGAGATTATGTGGGTATCATTGGCAGCTATTCACACCAACGCCCCTGACCTAAATGCAAACCCCGATGGTATGAAGATGGAATGAAAGAAAACGGAATTCGGAAGAAATATACATTATCGAGTTCTATAGACTCGATTCTTAAGCGTTCACCATAAAAAGACCAATGATTGTTTTGAACGCCGCGAGAGCTTTTAAGGTGCCTGTAGAGAGTCATTGTCTGCTGTCAATTGACTGATACAGGACCTATAAATGCCCCGGCGGTAACGTGACGTTGAACTTCACCAAGGGGAACACTA\" \n",
       "                                                                                                                                                                                                                                                                                                                                                                                                                                                                                                                   t65 \n",
       "\"TCCCCTCGCTCTTTACAAATCCCCATTGAGTCACCAGTGAGACGTTCTTGCGTACACCAACTTTTAGTGATGAGGGGCATCCCTTTGCCCGGCTGGTTGGTTGTGCCCCGATACGCGCCACCCCTCAGGGAGCAGGGTTGGCGGCGACGCTTGCATCCACTTCGCACACTTTGGTGGCAGAAGCTGCCGATGGCATTAATTTAAGCTCAAAAATGGTGCTACAGGTAATTTAGACGAGCTTCTAAAGAATTAACGCAACCATCCGAGGAACATCTTTGGAGCAGATAAAGGAGGATAAAATAAAGGGTTGGCTGAGGGGATGACGATCAGAATCTGCCATGATGAACGGCTCAGTACGTAGCGCGGGACGGAATCCCGTGCTAGTAAGTAGCTGTACTATACAACAAAGGCGCCCAAGCTGATTCGCGCATTGCTTACCTCTTGAAGTCAGAAGAATAGTATCTCAAATTTATAGAAAGTTATCATGACCGCGATCGCGT\" \n",
       "                                                                                                                                                                                                                                                                                                                                                                                                                                                                                                                   t71 \n",
       "\"CTACCACGTACGGCCATTTTGTCAGCATGAGAGTAGTGGCAACAATCACCAAATAATTTTGTGCCGAAGCGGCCGGGTTGGTGTCAATAAGTCATCGACAGCTCATTTTTGAGGCCTTCTTATTTATAGCGGGTCGGTGACCGATTTGAATATCAGAGAGCACCCCACTGAGCTTCAGCCAACCCCAGGCGGGATTACGGTAGAAAGCTTTTTATACTGCACATGATGAAATTTCATGGACTCATCGTTTGCAGAACGGACCGGGTGTATACTCTGCCGTACATCTTTCTCGGGCCCTTCACGATTACTAGCGTAAGCAGCCCTCCACTGACTTCGCTACCAGATTTCTTTTCCGCCGTCTCTAGACATACCAACTATAGAAGCGTTACACCCGGACGAGTACCTAACAGCTGGACCCGAACTAGAAACCGGGGCCGTCCGAAGTCCTAAAGTGTTAGACACCATGGGGATGTTGGAAGCGTCAACACGTCGCTGACGGA\" \n",
       "                                                                                                                                                                                                                                                                                                                                                                                                                                                                                                                   t72 \n",
       "\"ATAGCCTGTCCGGTCGTATTGCCTATCTTTTGTTAAAGGCAACAATTGCAAGCCGATGACCCCCTGGTATGTTCCGATTTGATACAATGAGGTCACACGAATTAAAACTTGTCACTTTGTCGTTTACTGAGATACGGGATGTCAAAGATTTGGTCAAAGGCTCCCCCAGAAGCACCAGCGAGCTCCCCACAAGCTTTCCTGATTGAGTCGTCATTCGCGCAACACAAGTCGACAATTGCTTAATGGGAAATCGGATCATGACGCCCGTGCACCGCGTCCCTCGAGGTTCTATGCGCTTAGAAAAATTCTAGCGCAGCCACTTCTCCACTACCTCCTCAACGCATCCTCTGTCGAGCCTTCTACACCAACGCTAACTAAAGTATCCGCACATGCCTGTAAAAATCTTCCAGCAGATGTTGAGCTAGCTTCGTGCGTGCATACCAAAAAGCCAGGTTCCAGTACCAAAAGAGAAGTTCCTTTGATATCCCAATATAAGAGTG\" \n",
       "                                                                                                                                                                                                                                                                                                                                                                                                                                                                                                                   t73 \n",
       "\"ATAGCCTGTCCGGTCGTATTGCTTATCTTGTGTTAAAGGCAACAGTTGCAAGCAGATGACCCCCTGGTATGTCCCGCTTGGCTACAATGTGGTCACAAGAATTAAAACTTGACCCCTTCTCCTTTACTGGGATACGGAATGTATAAGATTTGGTCAAAGGGTCCCCTAGAAGCACCGGCGAGCTCCCCACAAGGTTTCCTTATTGAGTAGTCATTAGCGGAACCCAAATTGACAACTGCTTAATTGGATATCTGATCATGACGCCTGAGCCCCGCGCCCCTTGAGATTCTTTGCGCTTAGAAAAATTCTAGCGCAGCGACGGCTCCACTACCTCCTCAACGCATCCTCTATAGAGCCTTCTACACCAACGCTAACTAAAGTGTCCGCACATTCCTGTACAAATCTAGCAGCAGGACTTGAGCTAGCTTAGTGCGTGCATACCAAAAAGCCAGGTTTCAGTACCAAAAGAGGAGTCATTTTGATATTCCAGTGTAAGAGTG\" \n",
       "                                                                                                                                                                                                                                                                                                                                                                                                                                                                                                                   t74 \n",
       "\"AGGGTGTATCACTCGTGAACCTGTCCAAGACGTGGTTAAGACCGGATCGGACGACACTAATTTCGACTTCTCGTTTATCGTACTAGTCTCGCAAACCGCAGGTTTCTATTGAAAAGCTAGTGGCATTAGATGGACATAATGCCCCTGCTACTAAGTCCCACCAAGTAACAGCCTATAGCCCATTCCGTTAGAGCTAGGGGAAGGTCTGGCCGGATTGCTCCCGGCGTTGAAACCCCCTAGCGCGCGCTTAGTGGACAATAGCATGCTAGTGAACTTACACACACTTGAAACACTGCGGACGAACATTGCGCCTCCCAAGAGAACTTACTGTGGTATTATTTTGGTACTCATTGGACATTAAGGCCCCCTTTACCACACAACTCAGAATACGCAGTCCATGACGTATACACTGGTTTTGGTTCTCGCAAAAAGCGAAGGGTAACCGGAACATTCTTTCGGCAACAAATTCGTCCTAGGAAGAACTACTTTTCTGGGACGGC\" \n",
       "                                                                                                                                                                                                                                                                                                                                                                                                                                                                                                                   t75 \n",
       "\"ATAGCCTGTCCGGCCGTATTGCTTATCTTGTGTTAAAGGCAACAGTTGCAAGCAGATGACCCCCTGGTATGTCTCGCTTGGATACAATGCTGTCACAAGAATTAAAACTTGTCACTTTCTCCTTTACTGGGATACGGAATGTTTAAGATTTAGTCAAAGGCTCCCCTACAAGCACCGGCGAGCTCCCCACAGGGTTTCCTTATTGAGTAGTCATTCGCGCAAAACAAATTGACAACTGCTTAATTGGATATCGGATCATGACGCCAGTGCCCCGCGCCCCTTGAGATTATTTGCGCCTAGAAAAACTCTAGCGCCGCGACGGCTCCACTACCTCCTCAACGCATCCTGTATAGAGCCTTCTACACCAACGCTAACTAAAGTGTCCGCACATTCCTGTACAAATCTAGCAGCAGGACTTGAGCTAGCTTAGTGCGTGCATACCAAAAAGCCAGTTTTCAGTACCAAAAGAGGAGTCCTTTTGATATCCCAGTGTAAGAGTG\" \n",
       "                                                                                                                                                                                                                                                                                                                                                                                                                                                                                                                   t81 \n",
       "\"GGGTGTAAGAGAATTCACACGAGACCTCGTCGCCCAATGGCCATGAACGTATAACAAATAAAGTGGCACTTGATCGCGCTTGCCAGTGTGAGAGCGAGCCCAGCTATGTTTCGTCCCAAAGGCAAATATCTGTCGCCGACCACCCCTGACAGTCAAGGGTGACCCATTCCCTGGTTTGGTTTATTTTGGACCTTCCCCTACCCTTCTTATATAGCTTCACTTACTTTTAGGTCATACGAGGCAGTGGAGGGAGCGTTAACAAGGTAACGGGCACATACTTTATGAGGGGAACCACACAGTAGAACCCGTTGAATAGTCTGGACCTTCAGCGAAACCACTAAGTCTTTTGGGAGTCGGATACTCATTATAACAATCGTATTGCTTAAGCATCGTTAGCAGTGGATATACGGGTGATCGATCTACATAACGGCGCCCCGTCTGATCTTTTTCACCTTCTCAGATAACATGCTCATCCTGCCTGGCACGGGAGCCGACCATTT\" \n",
       "                                                                                                                                                                                                                                                                                                                                                                                                                                                                                                                   t82 \n",
       "\"TATAACCCTGGTTAACTCTATTCAGAGTTGCTGACGATGAGCCTACGTGGAGTGTGATCGCTTGCGTGAGCGAGGTGGCACGCTAGCTCCCCATGTTAGGACATTAATAACGAACGTGCTACTTCCTGTAACATTAATTATGTGAATTGGTTCGCGTTGGTGCAAAGATGGTACCCGTTAGTGTCATAAGCCTCTGGTTTCACTCGTTGGATTTATTTATTTGGAGGGTGATACGTGAAAATCGGAGTACACAACTCCAAGGTATACCTTCTGTAACGTCCCACGCGTACCCATTCCAACCATAACATTGCGTGCGAACACGGGCAACTGTGTGTCTCCCAGATCGTGCCTCCAAGCAATGTCAGCAATTAACAACACGGTGAGCATCAAACCACACTGTGGTATTAGGGTCCATAACCAATGCAGACACTTCAGCTGTTTGTATACAGTTGTTACGAGGAGGTCTCCATTTCATTGTAGCGCTGAAGGAAGCTAGACAG\" \n",
       "                                                                                                                                                                                                                                                                                                                                                                                                                                                                                                                   t83 \n",
       "\"TAGTGAACTAGAGAGCACAAGTGACCCCATTACCGAGTGCCTAGGATCGTATAAAGTATGAAGTGGGGATTCCTCGCGCGCGCCAGTGTGACTGCGTGTCCCGGGATGTTTCGTGGGCGAGGCAAATAACAGACGCCGACCCCCACTTACAGTCATGGTTGACTCATTCACTGGTTTGCGTTATTTGAGGCCTACGCATACACTTCCTATATTACTTCACCTCCTTCAAGGTAATACGGTGATGTGAAGCGAGCGTCCATAACGTGAACGCGACATACTAAGGGTGGGGCGCCTATCACCAGTATCCGTATAATGATGTGTAAATACAGGTATGTTTCGGGGTTAGTCCGGGGGCGGATACACTTTCTAACAAGCTTAAAGCACAAGCAACGTTAGTACTCGTTAGAAGGGTCTTCGATGTGCATGCGAGCTACCCGTCCGCTGGATGTCACCATCTCAGAGAACATGCTGGCCCTGCCAGGCACTGGAGCAGACAAATT\" \n",
       "                                                                                                                                                                                                                                                                                                                                                                                                                                                                                                                   t84 \n",
       "\"GCACGCGCAAGAGTCCTAAACCGGCTCGGTTAACGAGATTTTATGTACCTTGTAGTGATGGTAATTGCGTTGCCTTATCTTGGAATCTTCCCTTTAGAGCCTGTGGTCGTTCGAACCGAAGATAGGCAACTGAAGGCGATTACACCTGAAAGGAGAATATGACTATTTGACTGTATCAATTTCGTTTAGGATTTCACTTGCGCTTCCAGTTTTACATCAAGCCGTGCAATTTAAGACAGAGGCGTTGTCGAAGCGCGCTTCTCGTGGAAGTCGCACACTGACGTCGGAGGCACGATGACTGGTTCCAGCACATACCTCACTGCTGATAGCCGTTTACAGAGGTAGCTACAGAGACAAAGGATTCTTTTTTCAGGTTAGTGGTGAGAGACACAGCAGGGGTCCTTCGCCACGGAGTTAATCGAGAGGCACGCAGAGCGTCTTAAACTTTTCACCACTTTAGACAACCCGTGGCAGTTCTCTATGCCTCAGACAAGCAAGGT\" \n",
       "                                                                                                                                                                                                                                                                                                                                                                                                                                                                                                                   t85 \n",
       "\"TATGACCCTGGTTAACTCTATTCAGAGTTGCTCACGATGAGCCTACGTGGAGTGTGATCGCTTGCGTGAGCGAGGTGGCACGCTAGCTCCCCATGTTAGGACATCAATAACGAACTGGCTACTTCCTGTAACATTAATTATGTGGATTGGATCGCGTTGGTGCAAAGATGGTACCCGTTAGTGTCATAAGCCTCTAGTTTCACACGTTGGATTTATATATTTGAAGGGTGATACGTGAAAATCGGAGTACACAACTCCAAGGTATACCTTCTGTAACGTCCCACGCATACCCATTCCAACCATAACATTGCGTGCGAACACGGGCAACTGTGTGTCTCCCACATCGTGCCTCCAAGCAATGTGAGCAATTAACAACACGGTGAGCATCAAACCACACTGTGGTATTAGGGTCCATAACCAATGCAGACACTTGAACTGTTTGTATACAGTAGTTACGAGGAGGTCTCCATTTCTTTGTAGCGCTGAAGGAAGCTAGACAG\" \n",
       "\n",
       "Slot \"spGenDiv\":\n",
       "    t1     t2     t3     t4     t5     t6     t7     t8 \n",
       "0.7378 0.7430 0.7244 0.7494 0.5152 0.5892 0.4976 0.6052 \n",
       "\n",
       "Slot \"spTrait\":\n",
       " [1] -18.550070 -16.498726   2.906249 -51.161217  -7.093114  -2.381815\n",
       " [7] -19.915956   4.699591   0.000000   0.000000   0.000000   0.000000\n",
       "[13]   0.000000   0.000000   0.000000   0.000000   0.000000   0.000000\n",
       "[19]   0.000000   0.000000\n",
       "\n",
       "Slot \"spAbund\":\n",
       " [1] 50 22  5 12  6  1  3  1  0  0  0  0  0  0  0  0  0  0  0  0\n",
       "\n",
       "Slot \"spAbundHarmMean\":\n",
       " [1] 0 0 0 0 0 0 0 0 0 0 0 0 0 0 0 0 0 0 0 0\n",
       "\n",
       "Slot \"spLastOriginStep\":\n",
       " [1] 0 0 0 0 0 0 0 0 0 0 0 0 0 0 0 0 0 0 0 0\n",
       "\n",
       "Slot \"spExtinctionStep\":\n",
       " [1] 0 0 0 0 0 0 0 0 0 0 0 0 0 0 0 0 0 0 0 0\n",
       "\n",
       "Slot \"equilibProp\":\n",
       "[1] 0\n",
       "\n",
       "\n",
       "Slot \"metaComm\":\n",
       "An object of class \"metaComm\"\n",
       "Slot \"spAbund\":\n",
       " [1] 0.4796829649 0.2094217459 0.1166555035 0.0702165662 0.0438713999\n",
       " [6] 0.0280196472 0.0180843938 0.0117213664 0.0077026122 0.0050234427\n",
       "[11] 0.0033489618 0.0021210092 0.0014512168 0.0008930565 0.0006697924\n",
       "[16] 0.0004465282 0.0002232641 0.0002232641 0.0001116321 0.0001116321\n",
       "\n",
       "Slot \"spTrait\":\n",
       "         t1          t2          t3          t4          t5          t6 \n",
       "-18.5500700 -16.4987259   2.9062489 -51.1612167  -7.0931141  -2.3818150 \n",
       "         t7          t8          t9         t10         t11         t12 \n",
       "-19.9159565   4.6995906 -15.4936208  -2.5050842 -14.3992649 -15.2769660 \n",
       "        t13         t14         t15         t16         t17         t18 \n",
       "  2.6188826   0.8024176   7.8172759 -44.6840953  -3.3016635   3.2403608 \n",
       "        t19         t20 \n",
       "-11.0681143 -13.5677256 \n",
       "\n",
       "\n",
       "Slot \"phylo\":\n",
       "An object of class \"rolePhylo\"\n",
       "Slot \"n\":\n",
       "[1] 20\n",
       "\n",
       "Slot \"e\":\n",
       "      [,1] [,2]\n",
       " [1,]   21   22\n",
       " [2,]   22   24\n",
       " [3,]   24   29\n",
       " [4,]   29   16\n",
       " [5,]   29    4\n",
       " [6,]   24   25\n",
       " [7,]   25   27\n",
       " [8,]   27   30\n",
       " [9,]   30   19\n",
       "[10,]   30   33\n",
       "[11,]   33   39\n",
       "[12,]   39   11\n",
       "[13,]   39    9\n",
       "[14,]   33   20\n",
       "[15,]   27   32\n",
       "[16,]   32    2\n",
       "[17,]   32   12\n",
       "[18,]   25    7\n",
       "[19,]   22    1\n",
       "[20,]   21   23\n",
       "[21,]   23   28\n",
       "[22,]   28   15\n",
       "[23,]   28   31\n",
       "[24,]   31   35\n",
       "[25,]   35    3\n",
       "[26,]   35   14\n",
       "[27,]   31   34\n",
       "[28,]   34   38\n",
       "[29,]   38    6\n",
       "[30,]   38   10\n",
       "[31,]   34   37\n",
       "[32,]   37   18\n",
       "[33,]   37    8\n",
       "[34,]   23   26\n",
       "[35,]   26   36\n",
       "[36,]   36   17\n",
       "[37,]   36    5\n",
       "[38,]   26   13\n",
       "\n",
       "Slot \"l\":\n",
       " [1]  97.5707771 171.2388473 125.4335550  25.0567610  25.0567610  96.7530503\n",
       " [7]   6.0452644  34.2040072  13.4879941   8.4622858   4.0303041   0.9954042\n",
       "[13]   0.9954042   5.0257083  39.9997052   7.6922962   7.6922962  53.7372657\n",
       "[19] 321.7291634 172.8898589 221.1518312  25.2582503  14.4341663   6.5894984\n",
       "[25]   4.2345856   4.2345856   6.1606987   3.2774588   1.3859265   1.3859265\n",
       "[31]   1.0974743   3.5659110   3.5659110 194.9934973  47.3949672   4.0216170\n",
       "[37]   4.0216170  51.4165842\n",
       "\n",
       "Slot \"alive\":\n",
       " [1] FALSE  TRUE  TRUE  TRUE FALSE FALSE  TRUE FALSE FALSE FALSE FALSE  TRUE\n",
       "[13] FALSE  TRUE FALSE  TRUE FALSE FALSE  TRUE  TRUE\n",
       "\n",
       "Slot \"tipNames\":\n",
       " [1] \"t1\"  \"t2\"  \"t3\"  \"t4\"  \"t5\"  \"t6\"  \"t7\"  \"t8\"  \"t9\"  \"t10\" \"t11\" \"t12\"\n",
       "[13] \"t13\" \"t14\" \"t15\" \"t16\" \"t17\" \"t18\" \"t19\" \"t20\"\n",
       "\n",
       "Slot \"scale\":\n",
       "[1] 1\n",
       "\n"
      ]
     },
     "metadata": {},
     "output_type": "display_data"
    }
   ],
   "source": [
    "res@modelSteps[[1]]"
   ]
  },
  {
   "cell_type": "markdown",
   "id": "470fb0a9",
   "metadata": {},
   "source": [
    "## Trash/experimentation below here"
   ]
  },
  {
   "cell_type": "code",
   "execution_count": null,
   "id": "b530a1f2",
   "metadata": {},
   "outputs": [],
   "source": [
    "print(\"  model slots\")\n",
    "print(slotNames(model))\n",
    "print(\"  params slots\")\n",
    "print(slotNames(model@params))\n",
    "print(\"  model step slots\")\n",
    "print(slotNames(model@modelSteps[[targetStep]]))\n",
    "print(\"  metaComm slots\")\n",
    "print(slotNames(model@modelSteps[[targetStep]]@metaComm))\n",
    "print(\"  localComm slots\")\n",
    "print(slotNames(model@modelSteps[[targetStep]]@localComm))\n",
    "\n",
    "metaAbund <- model@modelSteps[[targetStep]]@metaComm@spAbund\n",
    "localAbund <- model@modelSteps[[targetStep]]@localComm@spAbund\n",
    "localTDiv <- model@modelSteps[[targetStep]]@localComm@spLastOriginStep\n",
    "\n",
    "localComm <- model@modelSteps[[targetStep]]@localComm"
   ]
  },
  {
   "cell_type": "code",
   "execution_count": 33,
   "id": "6a1a78a1",
   "metadata": {},
   "outputs": [
    {
     "name": "stdout",
     "output_type": "stream",
     "text": [
      "[1] TRUE\n"
     ]
    },
    {
     "data": {
      "text/html": [
       "'((t5:49.22820084,t6:49.22820084):13.75104041,(((t1:0.2478452823,t10:0.2478452823):18.21871864,t7:18.46656392):11.6761168,(((t2:0.5968918004,t4:0.5968918004):9.243891552,t9:9.840783353):8.965020852,(t8:4.750494433,t3:4.750494433):14.05530977):11.33687651):32.83656054);\\n'"
      ],
      "text/latex": [
       "'((t5:49.22820084,t6:49.22820084):13.75104041,(((t1:0.2478452823,t10:0.2478452823):18.21871864,t7:18.46656392):11.6761168,(((t2:0.5968918004,t4:0.5968918004):9.243891552,t9:9.840783353):8.965020852,(t8:4.750494433,t3:4.750494433):14.05530977):11.33687651):32.83656054);\\textbackslash{}n'"
      ],
      "text/markdown": [
       "'((t5:49.22820084,t6:49.22820084):13.75104041,(((t1:0.2478452823,t10:0.2478452823):18.21871864,t7:18.46656392):11.6761168,(((t2:0.5968918004,t4:0.5968918004):9.243891552,t9:9.840783353):8.965020852,(t8:4.750494433,t3:4.750494433):14.05530977):11.33687651):32.83656054);\\n'"
      ],
      "text/plain": [
       "[1] \"((t5:49.22820084,t6:49.22820084):13.75104041,(((t1:0.2478452823,t10:0.2478452823):18.21871864,t7:18.46656392):11.6761168,(((t2:0.5968918004,t4:0.5968918004):9.243891552,t9:9.840783353):8.965020852,(t8:4.750494433,t3:4.750494433):14.05530977):11.33687651):32.83656054);\\n\""
      ]
     },
     "metadata": {},
     "output_type": "display_data"
    },
    {
     "data": {
      "image/png": "[encoded data removed]",
      "text/plain": [
       "plot without title"
      ]
     },
     "metadata": {
      "image/png": {
       "height": 420,
       "width": 420
      }
     },
     "output_type": "display_data"
    }
   ],
   "source": [
    "nwk <- newick(model@modelSteps[[1]]@phylo)\n",
    "tre <- read.tree(text=nwk)\n",
    "plot(tre)\n",
    "print(is.ultrametric(tre))\n",
    "nwk"
   ]
  },
  {
   "cell_type": "code",
   "execution_count": 29,
   "id": "7d85400e",
   "metadata": {},
   "outputs": [
    {
     "data": {
      "text/html": [
       "900"
      ],
      "text/latex": [
       "900"
      ],
      "text/markdown": [
       "900"
      ],
      "text/plain": [
       "[1] 900"
      ]
     },
     "metadata": {},
     "output_type": "display_data"
    }
   ],
   "source": [
    "exp = as(model, \"roleExperiment\")\n",
    "exp@experimentMeta$iterations[[10]]"
   ]
  },
  {
   "cell_type": "code",
   "execution_count": 25,
   "id": "d2551bd2",
   "metadata": {},
   "outputs": [
    {
     "data": {
      "text/plain": [
       "An object of class \"metaComm\"\n",
       "Slot \"spAbund\":\n",
       " [1] 0.597864769 0.211150652 0.096085409 0.047449585 0.023724792 0.011862396\n",
       " [7] 0.005931198 0.003558719 0.001186240 0.001186240\n",
       "\n",
       "Slot \"spTrait\":\n",
       "        t1         t2         t3         t4         t5         t6         t7 \n",
       " 3.7429614 -3.6527011 -2.6361093  7.3320887  7.6553195  0.7792885  3.3310768 \n",
       "        t8         t9        t10 \n",
       "-3.1544467 -5.0519448  1.8750688 \n"
      ]
     },
     "metadata": {},
     "output_type": "display_data"
    }
   ],
   "source": [
    "model@modelSteps[[targetStep]]@metaComm"
   ]
  },
  {
   "cell_type": "code",
   "execution_count": 128,
   "id": "449479f6",
   "metadata": {},
   "outputs": [
    {
     "data": {
      "text/plain": [
       "An object of class \"localComm\"\n",
       "Slot \"indSpecies\":\n",
       "  [1] 3 3 3 3 3 3 3 3 3 3 3 3 3 3 3 3 3 3 3 3 3 3 3 3 3 3 3 3 3 3 3 3 3 3 3 3 3\n",
       " [38] 3 3 3 3 3 3 3 3 3 3 3 3 3 3 3 3 3 3 3 3 3 3 3 3 3 3 3 3 3 3 3 3 3 3 3 3 3\n",
       " [75] 3 3 3 3 3 3 3 3 3 3 3 3 3 3 3 3 3 3 3 3 3 3 3 3 3 3\n",
       "\n",
       "Slot \"indTrait\":\n",
       "       t3        t3        t3        t3        t3        t3        t3        t3 \n",
       "-1.761592 -1.761592 -1.761592 -1.761592 -1.761592 -1.761592 -1.761592 -1.761592 \n",
       "       t3        t3        t3        t3        t3        t3        t3        t3 \n",
       "-1.761592 -1.761592 -1.761592 -1.761592 -1.761592 -1.761592 -1.761592 -1.761592 \n",
       "       t3        t3        t3        t3        t3        t3        t3        t3 \n",
       "-1.761592 -1.761592 -1.761592 -1.761592 -1.761592 -1.761592 -1.761592 -1.761592 \n",
       "       t3        t3        t3        t3        t3        t3        t3        t3 \n",
       "-1.761592 -1.761592 -1.761592 -1.761592 -1.761592 -1.761592 -1.761592 -1.761592 \n",
       "       t3        t3        t3        t3        t3        t3        t3        t3 \n",
       "-1.761592 -1.761592 -1.761592 -1.761592 -1.761592 -1.761592 -1.761592 -1.761592 \n",
       "       t3        t3        t3        t3        t3        t3        t3        t3 \n",
       "-1.761592 -1.761592 -1.761592 -1.761592 -1.761592 -1.761592 -1.761592 -1.761592 \n",
       "       t3        t3        t3        t3        t3        t3        t3        t3 \n",
       "-1.761592 -1.761592 -1.761592 -1.761592 -1.761592 -1.761592 -1.761592 -1.761592 \n",
       "       t3        t3        t3        t3        t3        t3        t3        t3 \n",
       "-1.761592 -1.761592 -1.761592 -1.761592 -1.761592 -1.761592 -1.761592 -1.761592 \n",
       "       t3        t3        t3        t3        t3        t3        t3        t3 \n",
       "-1.761592 -1.761592 -1.761592 -1.761592 -1.761592 -1.761592 -1.761592 -1.761592 \n",
       "       t3        t3        t3        t3        t3        t3        t3        t3 \n",
       "-1.761592 -1.761592 -1.761592 -1.761592 -1.761592 -1.761592 -1.761592 -1.761592 \n",
       "       t3        t3        t3        t3        t3        t3        t3        t3 \n",
       "-1.761592 -1.761592 -1.761592 -1.761592 -1.761592 -1.761592 -1.761592 -1.761592 \n",
       "       t3        t3        t3        t3        t3        t3        t3        t3 \n",
       "-1.761592 -1.761592 -1.761592 -1.761592 -1.761592 -1.761592 -1.761592 -1.761592 \n",
       "       t3        t3        t3        t3 \n",
       "-1.761592 -1.761592 -1.761592 -1.761592 \n",
       "\n",
       "Slot \"indSeqs\":\n",
       "character(0)\n",
       "\n",
       "Slot \"spGenDiv\":\n",
       "numeric(0)\n",
       "\n",
       "Slot \"spTrait\":\n",
       " [1] -1.761592  0.000000  0.000000  0.000000  0.000000  0.000000  0.000000\n",
       " [8]  0.000000  0.000000  0.000000\n",
       "\n",
       "Slot \"spAbund\":\n",
       " [1]   0   0 100   0   0   0   0   0   0   0\n",
       "\n",
       "Slot \"spAbundHarmMean\":\n",
       " [1] 0 0 0 0 0 0 0 0 0 0\n",
       "\n",
       "Slot \"spLastOriginStep\":\n",
       " [1] 0 0 0 0 0 0 0 0 0 0\n",
       "\n",
       "Slot \"spExtinctionStep\":\n",
       " [1] 0 0 0 0 0 0 0 0 0 0\n",
       "\n",
       "Slot \"equilibProp\":\n",
       "[1] 0\n"
      ]
     },
     "metadata": {},
     "output_type": "display_data"
    }
   ],
   "source": [
    "model@modelSteps[[1]]@localComm"
   ]
  },
  {
   "cell_type": "code",
   "execution_count": 42,
   "id": "3f28ab6c",
   "metadata": {},
   "outputs": [
    {
     "name": "stdout",
     "output_type": "stream",
     "text": [
      "[1] \"params\"     \"modelSteps\"\n"
     ]
    },
    {
     "ename": "ERROR",
     "evalue": "Error in rep(p, length(j)): attempt to replicate an object of type 'closure'\n",
     "output_type": "error",
     "traceback": [
      "Error in rep(p, length(j)): attempt to replicate an object of type 'closure'\nTraceback:\n",
      "1. as(model, \"roleExperiment\")",
      "2. asMethod(object)",
      "3. lapply(pnames, function(p) {\n .     p <- slot(from@params, p)\n .     if (length(p) > 1) {\n .         p <- c(p[1], p)\n .         return(p[j])\n .     }\n .     else {\n .         return(rep(p, length(j)))\n .     }\n . })",
      "4. FUN(X[[i]], ...)"
     ]
    }
   ],
   "source": [
    "#length(model@modelSteps)\n",
    "#as(model@params, \"roleExperiment\")\n",
    "print(slotNames(model))\n",
    "#roleExperiment(model)\n",
    "#roleModel(model@params)\n",
    "#exp = roleExperiment(c(model))\n",
    "as(model, \"roleExperiment\")"
   ]
  },
  {
   "cell_type": "code",
   "execution_count": 134,
   "id": "07e51b86",
   "metadata": {},
   "outputs": [
    {
     "data": {
      "text/plain": [
       "[[1]]\n",
       "InstantaneousBottleneck(time=-1.0, population='t2_l', strength=200000.0)\n",
       "\n",
       "[[2]]\n",
       "PopulationSplit(time=0.0, derived=['t2_m', 't2_l'], ancestral='t2')\n",
       "\n",
       "[[3]]\n",
       "PopulationSplit(time=1331907.0208397647, derived=['t2', 't6'], ancestral='pop_16')\n",
       "\n",
       "[[4]]\n",
       "PopulationSplit(time=4783267.451635439, derived=['t3', 't1'], ancestral='pop_11')\n",
       "\n",
       "[[5]]\n",
       "PopulationSplit(time=4791876.548620749, derived=['t10', 't5'], ancestral='pop_10')\n",
       "\n",
       "[[6]]\n",
       "PopulationSplit(time=6605008.217257258, derived=['t8', 't9'], ancestral='pop_12')\n",
       "\n",
       "[[7]]\n",
       "PopulationSplit(time=7520538.276588667, derived=['t7', 'pop_16'], ancestral='pop_17')\n",
       "\n",
       "[[8]]\n",
       "PopulationSplit(time=12879985.319674503, derived=['pop_12', 't4'], ancestral='pop_13')\n",
       "\n",
       "[[9]]\n",
       "PopulationSplit(time=13436309.741102647, derived=['pop_11', 'pop_13'], ancestral='pop_14')\n",
       "\n",
       "[[10]]\n",
       "PopulationSplit(time=15565051.333187427, derived=['pop_10', 'pop_14'], ancestral='pop_15')\n",
       "\n",
       "[[11]]\n",
       "PopulationSplit(time=53199837.632486254, derived=['pop_15', 'pop_17'], ancestral='pop_18')\n"
      ]
     },
     "metadata": {},
     "output_type": "display_data"
    }
   ],
   "source": [
    "msprime <- import(\"msprime\")\n",
    "#dbg = res$debug()\n",
    "#ts = msprime$sim_ancestry(demography=res, samples=c(msprime$SampleSet(5, \"t1_l\")))\n",
    "#ts = msprime$sim_mutations(ts, rate=0.001)\n",
    "#ts$diversity()\n",
    "res$events\n"
   ]
  },
  {
   "cell_type": "code",
   "execution_count": 171,
   "id": "c2399ae2",
   "metadata": {},
   "outputs": [
    {
     "name": "stdout",
     "output_type": "stream",
     "text": [
      " [1] 121.5470484  18.9334488   0.2743390   9.7965882   2.4511238   2.4511238\n",
      " [7]  12.2477120  12.5220511  31.4554998 133.0790557  16.3437354   2.3976470\n",
      "[13]   1.1821101   1.1821101   2.5928645   0.9868926   0.9868926  19.9234925\n",
      " [1] FALSE FALSE FALSE FALSE FALSE FALSE FALSE FALSE FALSE FALSE FALSE FALSE\n",
      "[13] FALSE FALSE FALSE FALSE FALSE FALSE\n"
     ]
    },
    {
     "data": {
      "text/html": [
       "TRUE"
      ],
      "text/latex": [
       "TRUE"
      ],
      "text/markdown": [
       "TRUE"
      ],
      "text/plain": [
       "[1] TRUE"
      ]
     },
     "metadata": {},
     "output_type": "display_data"
    },
    {
     "data": {
      "text/html": [
       "<style>\n",
       ".list-inline {list-style: none; margin:0; padding: 0}\n",
       ".list-inline>li {display: inline-block}\n",
       ".list-inline>li:not(:last-child)::after {content: \"\\00b7\"; padding: 0 .5ex}\n",
       "</style>\n",
       "<ol class=list-inline><li>121.547048353779</li><li>18.9334487715414</li><li>0.27433904198309</li><li>9.79658819007365</li><li>2.45112382300675</li><li>2.45112382300675</li><li>12.2477120130804</li><li>12.5220510550635</li><li>31.4554998266048</li><li>133.079055701105</li><li>16.3437354032476</li><li>2.39764699703194</li><li>1.18211007899886</li><li>1.18211007899886</li><li>2.59286451849717</li><li>0.986892557533629</li><li>0.986892557533629</li><li>19.9234924792784</li></ol>\n"
      ],
      "text/latex": [
       "\\begin{enumerate*}\n",
       "\\item 121.547048353779\n",
       "\\item 18.9334487715414\n",
       "\\item 0.27433904198309\n",
       "\\item 9.79658819007365\n",
       "\\item 2.45112382300675\n",
       "\\item 2.45112382300675\n",
       "\\item 12.2477120130804\n",
       "\\item 12.5220510550635\n",
       "\\item 31.4554998266048\n",
       "\\item 133.079055701105\n",
       "\\item 16.3437354032476\n",
       "\\item 2.39764699703194\n",
       "\\item 1.18211007899886\n",
       "\\item 1.18211007899886\n",
       "\\item 2.59286451849717\n",
       "\\item 0.986892557533629\n",
       "\\item 0.986892557533629\n",
       "\\item 19.9234924792784\n",
       "\\end{enumerate*}\n"
      ],
      "text/markdown": [
       "1. 121.547048353779\n",
       "2. 18.9334487715414\n",
       "3. 0.27433904198309\n",
       "4. 9.79658819007365\n",
       "5. 2.45112382300675\n",
       "6. 2.45112382300675\n",
       "7. 12.2477120130804\n",
       "8. 12.5220510550635\n",
       "9. 31.4554998266048\n",
       "10. 133.079055701105\n",
       "11. 16.3437354032476\n",
       "12. 2.39764699703194\n",
       "13. 1.18211007899886\n",
       "14. 1.18211007899886\n",
       "15. 2.59286451849717\n",
       "16. 0.986892557533629\n",
       "17. 0.986892557533629\n",
       "18. 19.9234924792784\n",
       "\n",
       "\n"
      ],
      "text/plain": [
       " [1] 121.5470484  18.9334488   0.2743390   9.7965882   2.4511238   2.4511238\n",
       " [7]  12.2477120  12.5220511  31.4554998 133.0790557  16.3437354   2.3976470\n",
       "[13]   1.1821101   1.1821101   2.5928645   0.9868926   0.9868926  19.9234925"
      ]
     },
     "metadata": {},
     "output_type": "display_data"
    },
    {
     "data": {
      "text/html": [
       "'(((((t6:2.45112382300675335500272922218,t8:2.45112382300675335500272922218):9.79658819007364911612967262045,t3:12.2477120130804024711324018426):0.274339041983090226040076231584,t4:12.5220510550634926971724780742):18.933448771541357302794494899,t10:31.4554998266048499999669729732):121.547048353778492923993326258,(((t5:1.18211007899886055838578613475,t1:1.18211007899886055838578613475):2.39764699703194139601691858843,(t7:0.98689255753362914447279763408,t2:0.98689255753362914447279763408):2.5928645184971728099299070891):16.3437354032475887777309253579,t9:19.9234924792783907321336300811):133.07905570110494863911299035);\\n'"
      ],
      "text/latex": [
       "'(((((t6:2.45112382300675335500272922218,t8:2.45112382300675335500272922218):9.79658819007364911612967262045,t3:12.2477120130804024711324018426):0.274339041983090226040076231584,t4:12.5220510550634926971724780742):18.933448771541357302794494899,t10:31.4554998266048499999669729732):121.547048353778492923993326258,(((t5:1.18211007899886055838578613475,t1:1.18211007899886055838578613475):2.39764699703194139601691858843,(t7:0.98689255753362914447279763408,t2:0.98689255753362914447279763408):2.5928645184971728099299070891):16.3437354032475887777309253579,t9:19.9234924792783907321336300811):133.07905570110494863911299035);\\textbackslash{}n'"
      ],
      "text/markdown": [
       "'(((((t6:2.45112382300675335500272922218,t8:2.45112382300675335500272922218):9.79658819007364911612967262045,t3:12.2477120130804024711324018426):0.274339041983090226040076231584,t4:12.5220510550634926971724780742):18.933448771541357302794494899,t10:31.4554998266048499999669729732):121.547048353778492923993326258,(((t5:1.18211007899886055838578613475,t1:1.18211007899886055838578613475):2.39764699703194139601691858843,(t7:0.98689255753362914447279763408,t2:0.98689255753362914447279763408):2.5928645184971728099299070891):16.3437354032475887777309253579,t9:19.9234924792783907321336300811):133.07905570110494863911299035);\\n'"
      ],
      "text/plain": [
       "[1] \"(((((t6:2.45112382300675335500272922218,t8:2.45112382300675335500272922218):9.79658819007364911612967262045,t3:12.2477120130804024711324018426):0.274339041983090226040076231584,t4:12.5220510550634926971724780742):18.933448771541357302794494899,t10:31.4554998266048499999669729732):121.547048353778492923993326258,(((t5:1.18211007899886055838578613475,t1:1.18211007899886055838578613475):2.39764699703194139601691858843,(t7:0.98689255753362914447279763408,t2:0.98689255753362914447279763408):2.5928645184971728099299070891):16.3437354032475887777309253579,t9:19.9234924792783907321336300811):133.07905570110494863911299035);\\n\""
      ]
     },
     "metadata": {},
     "output_type": "display_data"
    }
   ],
   "source": [
    "print(model@modelSteps[[idx]]@phylo@l)\n",
    "ph = model@modelSteps[[idx]]@phylo\n",
    "\n",
    "wat = function(from) {\n",
    "  i <- 2 * (from@n - 1)\n",
    "\n",
    "  y <- list(edge = from@e[1:i, ], edge.length = from@l[1:i],\n",
    "            tip.label = from@tipNames[1:from@n],\n",
    "            Nnode = from@n - 1)\n",
    "\n",
    "  # make any possible 0 or negative edge lengths equal to\n",
    "  # very small number\n",
    "  print(y$edge.length <= 0)\n",
    "  y$edge.length[y$edge.length <= 0] <- .Machine$double.eps\n",
    "\n",
    "  class(y) <- 'phylo'\n",
    "\n",
    "  return(y)\n",
    "}\n",
    "ape_tr = wat(ph)\n",
    "is.ultrametric(ape_tr)\n",
    "ape_tr$edge.length\n",
    "newick(ape_tr)"
   ]
  }
 ],
 "metadata": {
  "kernelspec": {
   "display_name": "R",
   "language": "R",
   "name": "ir"
  },
  "language_info": {
   "codemirror_mode": "r",
   "file_extension": ".r",
   "mimetype": "text/x-r-source",
   "name": "R",
   "pygments_lexer": "r",
   "version": "4.2.3"
  }
 },
 "nbformat": 4,
 "nbformat_minor": 5
}
