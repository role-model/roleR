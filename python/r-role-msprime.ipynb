{
 "cells": [
  {
   "cell_type": "markdown",
   "id": "9133a964",
   "metadata": {},
   "source": [
    "## Running msprime simulations for a RoLE model\n",
    "\n",
    "This notebook assumes you have msprime installed. If you want to run the notebook example you need\n",
    "to also install several other packages to make the notebook work (see below).\n",
    "\n",
    "Install msprime:\n",
    "\n",
    "    conda install -c conda-forge msprime pandas\n",
    "    conda install -c bioconda python-newick\n",
    "\n",
    "Install for testing and dev inside jupyter notebooks:\n",
    "\n",
    "    conda install -c conda-forge rpy2 r-irkernel"
   ]
  },
  {
   "cell_type": "code",
   "execution_count": 197,
   "id": "ec84983d",
   "metadata": {},
   "outputs": [
    {
     "data": {
      "text/html": [
       "1e-06"
      ],
      "text/latex": [
       "1e-06"
      ],
      "text/markdown": [
       "1e-06"
      ],
      "text/plain": [
       "[1] 1e-06"
      ]
     },
     "metadata": {},
     "output_type": "display_data"
    }
   ],
   "source": [
    "library(roleR)\n",
    "library(ape)\n",
    "library(reticulate)\n",
    "## Assuming this function is available to me\n",
    "newick <- function(phylo){\n",
    "     ape_tree <- as(phylo, \"phylo\")\n",
    "     write.tree(ape_tree, file = 'temp.nwk', append = FALSE, digits = 30, tree.names = FALSE)\n",
    "     nwk <- readChar('temp.nwk', file.info('temp.nwk')$size)\n",
    "     unlink('temp.nwk')\n",
    "     return(nwk)\n",
    "}\n",
    "\n",
    "p <- roleParams(individuals_local = 1000, individuals_meta = 1000,\n",
    "                         species_meta = 10, speciation_local = 0, \n",
    "                         speciation_meta = 0.05, extinction_meta = 0.05, env_sigma = 0.5,\n",
    "                         trait_sigma=1, comp_sigma = 0.5, dispersal_prob = 0.01, mutation_rate = 1e-6,\n",
    "                         equilib_escape = 1, num_basepairs = 500, alpha = 10000,\n",
    "                         init_type = 'oceanic_island', niter = 100000, niterTimestep = 10000)\n",
    "model <- runRole(roleModel(p))\n",
    "#localComm <- model@modelSteps[[targetStep]]@localComm\n",
    "#print(slotNames(localComm))\n",
    "#localComm@indSpecies\n",
    "model@params@mutation_rate"
   ]
  },
  {
   "cell_type": "code",
   "execution_count": 198,
   "id": "64a90a22",
   "metadata": {},
   "outputs": [
    {
     "data": {
      "text/plain": [
       "completed (run) RoLE model with 100000 iterations "
      ]
     },
     "metadata": {},
     "output_type": "display_data"
    }
   ],
   "source": [
    "## Assumes you are passing in roleModel which has been run\n",
    "sim_seqs <- function(model){\n",
    "    source_python('role_msprime.py')\n",
    "    #exp = as(model, \"roleExperiment\")\n",
    "\n",
    "    ## the timesteps at which data were recorded\n",
    "    ## TODO: Doing it this way because the as() above is broken atm\n",
    "    iterations <- c(0, which(1:model@params@niter %% model@params@niterTimestep == 0))\n",
    "\n",
    "    ## Global parameters\n",
    "    J_m <- model@params@individuals_meta\n",
    "    mu <- model@params@mutation_rate\n",
    "    sequence_length <- model@params@num_basepairs\n",
    "    \n",
    "    ## For each snapshot\n",
    "    for (idx in 1:length(model@modelSteps)){\n",
    "\n",
    "        ## Fetch the data that we need to run the msprime simulation\n",
    "        ## Current time in timesteps (necessary to get divergence counting from t_0)\n",
    "        ## TODO: If as(model, \"roleExperiment\") works then you can do this instead.\n",
    "        #curtime = exp@experimentMeta$iterations[[idx]]\n",
    "        curtime = iterations[[idx]]\n",
    "\n",
    "        ## Prior to iterFun it was done this way:\n",
    "        ##J <- model@params@individuals_local[[idx]]\n",
    "        J <- model@params@individuals_local(idx)\n",
    "        alpha <- model@params@alpha(idx)\n",
    "        \n",
    "        metaTree <- newick(model@modelSteps[[idx]]@phylo)\n",
    "        metaAbund <- model@modelSteps[[idx]]@metaComm@spAbund\n",
    "        \n",
    "        localAbund <- model@modelSteps[[idx]]@localComm@indSpecies\n",
    "        localTDiv <- model@modelSteps[[idx]]@localComm@spLastOriginStep\n",
    "\n",
    "        ## Returns a dataframe with rows for pi, TajD and genotypes\n",
    "        res <- py_msprime_simulate(J_m, J, curtime, metaTree, metaAbund, localAbund, localTDiv, alpha, sequence_length, mu)\n",
    "        \n",
    "        ## Update the model with the results\n",
    "        model@modelSteps[[idx]]@localComm@spGenDiv = unlist(res[\"pi\",])\n",
    "        model@modelSteps[[idx]]@localComm@indSeqs = unlist(res[\"gtypes\",])\n",
    "\n",
    "    }\n",
    "    return(model)\n",
    "}\n",
    "res <- sim_seqs(model)\n",
    "res\n",
    "#model@modelSteps[[10]]@localComm@spGenDiv"
   ]
  },
  {
   "cell_type": "code",
   "execution_count": 199,
   "id": "02e91376",
   "metadata": {},
   "outputs": [
    {
     "name": "stdout",
     "output_type": "stream",
     "text": [
      "[1] 0.6968\n",
      " [1] 1000    0    0    0    0    0    0    0    0    0\n",
      " [1] 0 0 0 0 0 0 0 0 0 0\n",
      "   t1    t2    t3    t5 \n",
      "0e+00 0e+00 8e-04 0e+00 \n",
      " [1] 946  47   5   0   2   0   0   0   0   0\n",
      " [1]    0   79 7357  593 8684 8674    0 9394    0    0\n",
      "t1 t2 t3 t4 t5 \n",
      " 0  0  0  0  0 \n",
      " [1] 925  10  33   6  26   0   0   0   0   0\n",
      " [1]     0    79  7357 14888  8684  8674 18090  9394     0     0\n",
      "t1 t2 t3 t4 t5 \n",
      " 0  0  0  0  0 \n",
      " [1] 895  22  50   7  26   0   0   0   0   0\n",
      " [1]     0    79  7357 14888  8684 21407 18090 22671     0     0\n",
      "   t1    t2    t3    t4    t5    t7 \n",
      "0e+00 0e+00 8e-04 0e+00 0e+00 0e+00 \n",
      " [1] 914  50  19   9   7   0   1   0   0   0\n",
      " [1]     0    79  7357 35210  8684 21407 37716 22671     0     0\n",
      "   t1    t2    t3    t5    t6 \n",
      "0e+00 0e+00 8e-04 0e+00 0e+00 \n",
      " [1] 812  98  21   0  63   6   0   0   0   0\n",
      " [1]     0    79  7357 49730  8684 48655 40953 22671     0     0\n",
      "   t1    t2    t3    t4    t5    t6 \n",
      "8e-04 0e+00 0e+00 0e+00 0e+00 0e+00 \n",
      " [1] 795 126  13   5  51  10   0   0   0   0\n",
      " [1]     0    79  7357 51146  8684 48655 40953 52767     0     0\n",
      "   t1    t2    t3    t4    t5    t6 \n",
      "8e-04 0e+00 0e+00 0e+00 0e+00 0e+00 \n",
      " [1] 784  92  78   1  33  12   0   0   0   0\n",
      " [1]     0    79  7357 69315  8684 48655 40953 52767     0     0\n",
      "   t1    t2    t3    t4    t5    t6 \n",
      "0e+00 0e+00 0e+00 0e+00 8e-04 0e+00 \n",
      " [1] 800  68  57   1  40  34   0   0   0   0\n",
      " [1]     0    79  7357 77426  8684 48655 40953 52767     0     0\n",
      "   t1    t2    t3    t4    t5    t6 \n",
      "0e+00 0e+00 0e+00 0e+00 0e+00 8e-04 \n",
      " [1] 816  45  17  47  34  41   0   0   0   0\n",
      " [1]     0    79  7357 77426  8684 48655 40953 52767     0     0\n",
      "   t1    t2    t3    t4    t5    t6 \n",
      "8e-04 0e+00 8e-04 0e+00 8e-04 0e+00 \n",
      " [1] 787  44  19  29  45  76   0   0   0   0\n",
      " [1]     0    79  7357 77426  8684 48655 40953 95999     0     0\n"
     ]
    }
   ],
   "source": [
    "## Check the results\n",
    "for (idx in 1:length(res@modelSteps)){\n",
    "    print(res@modelSteps[[idx]]@localComm@spGenDiv)\n",
    "    print(res@modelSteps[[idx]]@localComm@spAbund)\n",
    "    print(res@modelSteps[[idx]]@localComm@spLastOriginStep)\n",
    "}"
   ]
  },
  {
   "cell_type": "markdown",
   "id": "470fb0a9",
   "metadata": {},
   "source": [
    "## Trash/experimentation below here"
   ]
  },
  {
   "cell_type": "code",
   "execution_count": null,
   "id": "b530a1f2",
   "metadata": {},
   "outputs": [],
   "source": [
    "print(\"  model slots\")\n",
    "print(slotNames(model))\n",
    "print(\"  params slots\")\n",
    "print(slotNames(model@params))\n",
    "print(\"  model step slots\")\n",
    "print(slotNames(model@modelSteps[[targetStep]]))\n",
    "print(\"  metaComm slots\")\n",
    "print(slotNames(model@modelSteps[[targetStep]]@metaComm))\n",
    "print(\"  localComm slots\")\n",
    "print(slotNames(model@modelSteps[[targetStep]]@localComm))\n",
    "\n",
    "metaAbund <- model@modelSteps[[targetStep]]@metaComm@spAbund\n",
    "localAbund <- model@modelSteps[[targetStep]]@localComm@spAbund\n",
    "localTDiv <- model@modelSteps[[targetStep]]@localComm@spLastOriginStep\n",
    "\n",
    "localComm <- model@modelSteps[[targetStep]]@localComm"
   ]
  },
  {
   "cell_type": "code",
   "execution_count": 33,
   "id": "6a1a78a1",
   "metadata": {},
   "outputs": [
    {
     "name": "stdout",
     "output_type": "stream",
     "text": [
      "[1] TRUE\n"
     ]
    },
    {
     "data": {
      "text/html": [
       "'((t5:49.22820084,t6:49.22820084):13.75104041,(((t1:0.2478452823,t10:0.2478452823):18.21871864,t7:18.46656392):11.6761168,(((t2:0.5968918004,t4:0.5968918004):9.243891552,t9:9.840783353):8.965020852,(t8:4.750494433,t3:4.750494433):14.05530977):11.33687651):32.83656054);\\n'"
      ],
      "text/latex": [
       "'((t5:49.22820084,t6:49.22820084):13.75104041,(((t1:0.2478452823,t10:0.2478452823):18.21871864,t7:18.46656392):11.6761168,(((t2:0.5968918004,t4:0.5968918004):9.243891552,t9:9.840783353):8.965020852,(t8:4.750494433,t3:4.750494433):14.05530977):11.33687651):32.83656054);\\textbackslash{}n'"
      ],
      "text/markdown": [
       "'((t5:49.22820084,t6:49.22820084):13.75104041,(((t1:0.2478452823,t10:0.2478452823):18.21871864,t7:18.46656392):11.6761168,(((t2:0.5968918004,t4:0.5968918004):9.243891552,t9:9.840783353):8.965020852,(t8:4.750494433,t3:4.750494433):14.05530977):11.33687651):32.83656054);\\n'"
      ],
      "text/plain": [
       "[1] \"((t5:49.22820084,t6:49.22820084):13.75104041,(((t1:0.2478452823,t10:0.2478452823):18.21871864,t7:18.46656392):11.6761168,(((t2:0.5968918004,t4:0.5968918004):9.243891552,t9:9.840783353):8.965020852,(t8:4.750494433,t3:4.750494433):14.05530977):11.33687651):32.83656054);\\n\""
      ]
     },
     "metadata": {},
     "output_type": "display_data"
    },
    {
     "data": {
      "image/png": "[encoded data removed]",
      "text/plain": [
       "plot without title"
      ]
     },
     "metadata": {
      "image/png": {
       "height": 420,
       "width": 420
      }
     },
     "output_type": "display_data"
    }
   ],
   "source": [
    "nwk <- newick(model@modelSteps[[1]]@phylo)\n",
    "tre <- read.tree(text=nwk)\n",
    "plot(tre)\n",
    "print(is.ultrametric(tre))\n",
    "nwk"
   ]
  },
  {
   "cell_type": "code",
   "execution_count": 29,
   "id": "7d85400e",
   "metadata": {},
   "outputs": [
    {
     "data": {
      "text/html": [
       "900"
      ],
      "text/latex": [
       "900"
      ],
      "text/markdown": [
       "900"
      ],
      "text/plain": [
       "[1] 900"
      ]
     },
     "metadata": {},
     "output_type": "display_data"
    }
   ],
   "source": [
    "exp = as(model, \"roleExperiment\")\n",
    "exp@experimentMeta$iterations[[10]]"
   ]
  },
  {
   "cell_type": "code",
   "execution_count": 25,
   "id": "d2551bd2",
   "metadata": {},
   "outputs": [
    {
     "data": {
      "text/plain": [
       "An object of class \"metaComm\"\n",
       "Slot \"spAbund\":\n",
       " [1] 0.597864769 0.211150652 0.096085409 0.047449585 0.023724792 0.011862396\n",
       " [7] 0.005931198 0.003558719 0.001186240 0.001186240\n",
       "\n",
       "Slot \"spTrait\":\n",
       "        t1         t2         t3         t4         t5         t6         t7 \n",
       " 3.7429614 -3.6527011 -2.6361093  7.3320887  7.6553195  0.7792885  3.3310768 \n",
       "        t8         t9        t10 \n",
       "-3.1544467 -5.0519448  1.8750688 \n"
      ]
     },
     "metadata": {},
     "output_type": "display_data"
    }
   ],
   "source": [
    "model@modelSteps[[targetStep]]@metaComm"
   ]
  },
  {
   "cell_type": "code",
   "execution_count": 128,
   "id": "449479f6",
   "metadata": {},
   "outputs": [
    {
     "data": {
      "text/plain": [
       "An object of class \"localComm\"\n",
       "Slot \"indSpecies\":\n",
       "  [1] 3 3 3 3 3 3 3 3 3 3 3 3 3 3 3 3 3 3 3 3 3 3 3 3 3 3 3 3 3 3 3 3 3 3 3 3 3\n",
       " [38] 3 3 3 3 3 3 3 3 3 3 3 3 3 3 3 3 3 3 3 3 3 3 3 3 3 3 3 3 3 3 3 3 3 3 3 3 3\n",
       " [75] 3 3 3 3 3 3 3 3 3 3 3 3 3 3 3 3 3 3 3 3 3 3 3 3 3 3\n",
       "\n",
       "Slot \"indTrait\":\n",
       "       t3        t3        t3        t3        t3        t3        t3        t3 \n",
       "-1.761592 -1.761592 -1.761592 -1.761592 -1.761592 -1.761592 -1.761592 -1.761592 \n",
       "       t3        t3        t3        t3        t3        t3        t3        t3 \n",
       "-1.761592 -1.761592 -1.761592 -1.761592 -1.761592 -1.761592 -1.761592 -1.761592 \n",
       "       t3        t3        t3        t3        t3        t3        t3        t3 \n",
       "-1.761592 -1.761592 -1.761592 -1.761592 -1.761592 -1.761592 -1.761592 -1.761592 \n",
       "       t3        t3        t3        t3        t3        t3        t3        t3 \n",
       "-1.761592 -1.761592 -1.761592 -1.761592 -1.761592 -1.761592 -1.761592 -1.761592 \n",
       "       t3        t3        t3        t3        t3        t3        t3        t3 \n",
       "-1.761592 -1.761592 -1.761592 -1.761592 -1.761592 -1.761592 -1.761592 -1.761592 \n",
       "       t3        t3        t3        t3        t3        t3        t3        t3 \n",
       "-1.761592 -1.761592 -1.761592 -1.761592 -1.761592 -1.761592 -1.761592 -1.761592 \n",
       "       t3        t3        t3        t3        t3        t3        t3        t3 \n",
       "-1.761592 -1.761592 -1.761592 -1.761592 -1.761592 -1.761592 -1.761592 -1.761592 \n",
       "       t3        t3        t3        t3        t3        t3        t3        t3 \n",
       "-1.761592 -1.761592 -1.761592 -1.761592 -1.761592 -1.761592 -1.761592 -1.761592 \n",
       "       t3        t3        t3        t3        t3        t3        t3        t3 \n",
       "-1.761592 -1.761592 -1.761592 -1.761592 -1.761592 -1.761592 -1.761592 -1.761592 \n",
       "       t3        t3        t3        t3        t3        t3        t3        t3 \n",
       "-1.761592 -1.761592 -1.761592 -1.761592 -1.761592 -1.761592 -1.761592 -1.761592 \n",
       "       t3        t3        t3        t3        t3        t3        t3        t3 \n",
       "-1.761592 -1.761592 -1.761592 -1.761592 -1.761592 -1.761592 -1.761592 -1.761592 \n",
       "       t3        t3        t3        t3        t3        t3        t3        t3 \n",
       "-1.761592 -1.761592 -1.761592 -1.761592 -1.761592 -1.761592 -1.761592 -1.761592 \n",
       "       t3        t3        t3        t3 \n",
       "-1.761592 -1.761592 -1.761592 -1.761592 \n",
       "\n",
       "Slot \"indSeqs\":\n",
       "character(0)\n",
       "\n",
       "Slot \"spGenDiv\":\n",
       "numeric(0)\n",
       "\n",
       "Slot \"spTrait\":\n",
       " [1] -1.761592  0.000000  0.000000  0.000000  0.000000  0.000000  0.000000\n",
       " [8]  0.000000  0.000000  0.000000\n",
       "\n",
       "Slot \"spAbund\":\n",
       " [1]   0   0 100   0   0   0   0   0   0   0\n",
       "\n",
       "Slot \"spAbundHarmMean\":\n",
       " [1] 0 0 0 0 0 0 0 0 0 0\n",
       "\n",
       "Slot \"spLastOriginStep\":\n",
       " [1] 0 0 0 0 0 0 0 0 0 0\n",
       "\n",
       "Slot \"spExtinctionStep\":\n",
       " [1] 0 0 0 0 0 0 0 0 0 0\n",
       "\n",
       "Slot \"equilibProp\":\n",
       "[1] 0\n"
      ]
     },
     "metadata": {},
     "output_type": "display_data"
    }
   ],
   "source": [
    "model@modelSteps[[1]]@localComm"
   ]
  },
  {
   "cell_type": "code",
   "execution_count": 42,
   "id": "3f28ab6c",
   "metadata": {},
   "outputs": [
    {
     "name": "stdout",
     "output_type": "stream",
     "text": [
      "[1] \"params\"     \"modelSteps\"\n"
     ]
    },
    {
     "ename": "ERROR",
     "evalue": "Error in rep(p, length(j)): attempt to replicate an object of type 'closure'\n",
     "output_type": "error",
     "traceback": [
      "Error in rep(p, length(j)): attempt to replicate an object of type 'closure'\nTraceback:\n",
      "1. as(model, \"roleExperiment\")",
      "2. asMethod(object)",
      "3. lapply(pnames, function(p) {\n .     p <- slot(from@params, p)\n .     if (length(p) > 1) {\n .         p <- c(p[1], p)\n .         return(p[j])\n .     }\n .     else {\n .         return(rep(p, length(j)))\n .     }\n . })",
      "4. FUN(X[[i]], ...)"
     ]
    }
   ],
   "source": [
    "#length(model@modelSteps)\n",
    "#as(model@params, \"roleExperiment\")\n",
    "print(slotNames(model))\n",
    "#roleExperiment(model)\n",
    "#roleModel(model@params)\n",
    "#exp = roleExperiment(c(model))\n",
    "as(model, \"roleExperiment\")"
   ]
  },
  {
   "cell_type": "code",
   "execution_count": 134,
   "id": "07e51b86",
   "metadata": {},
   "outputs": [
    {
     "data": {
      "text/plain": [
       "[[1]]\n",
       "InstantaneousBottleneck(time=-1.0, population='t2_l', strength=200000.0)\n",
       "\n",
       "[[2]]\n",
       "PopulationSplit(time=0.0, derived=['t2_m', 't2_l'], ancestral='t2')\n",
       "\n",
       "[[3]]\n",
       "PopulationSplit(time=1331907.0208397647, derived=['t2', 't6'], ancestral='pop_16')\n",
       "\n",
       "[[4]]\n",
       "PopulationSplit(time=4783267.451635439, derived=['t3', 't1'], ancestral='pop_11')\n",
       "\n",
       "[[5]]\n",
       "PopulationSplit(time=4791876.548620749, derived=['t10', 't5'], ancestral='pop_10')\n",
       "\n",
       "[[6]]\n",
       "PopulationSplit(time=6605008.217257258, derived=['t8', 't9'], ancestral='pop_12')\n",
       "\n",
       "[[7]]\n",
       "PopulationSplit(time=7520538.276588667, derived=['t7', 'pop_16'], ancestral='pop_17')\n",
       "\n",
       "[[8]]\n",
       "PopulationSplit(time=12879985.319674503, derived=['pop_12', 't4'], ancestral='pop_13')\n",
       "\n",
       "[[9]]\n",
       "PopulationSplit(time=13436309.741102647, derived=['pop_11', 'pop_13'], ancestral='pop_14')\n",
       "\n",
       "[[10]]\n",
       "PopulationSplit(time=15565051.333187427, derived=['pop_10', 'pop_14'], ancestral='pop_15')\n",
       "\n",
       "[[11]]\n",
       "PopulationSplit(time=53199837.632486254, derived=['pop_15', 'pop_17'], ancestral='pop_18')\n"
      ]
     },
     "metadata": {},
     "output_type": "display_data"
    }
   ],
   "source": [
    "msprime <- import(\"msprime\")\n",
    "#dbg = res$debug()\n",
    "#ts = msprime$sim_ancestry(demography=res, samples=c(msprime$SampleSet(5, \"t1_l\")))\n",
    "#ts = msprime$sim_mutations(ts, rate=0.001)\n",
    "#ts$diversity()\n",
    "res$events\n"
   ]
  },
  {
   "cell_type": "code",
   "execution_count": 171,
   "id": "c2399ae2",
   "metadata": {},
   "outputs": [
    {
     "name": "stdout",
     "output_type": "stream",
     "text": [
      " [1] 121.5470484  18.9334488   0.2743390   9.7965882   2.4511238   2.4511238\n",
      " [7]  12.2477120  12.5220511  31.4554998 133.0790557  16.3437354   2.3976470\n",
      "[13]   1.1821101   1.1821101   2.5928645   0.9868926   0.9868926  19.9234925\n",
      " [1] FALSE FALSE FALSE FALSE FALSE FALSE FALSE FALSE FALSE FALSE FALSE FALSE\n",
      "[13] FALSE FALSE FALSE FALSE FALSE FALSE\n"
     ]
    },
    {
     "data": {
      "text/html": [
       "TRUE"
      ],
      "text/latex": [
       "TRUE"
      ],
      "text/markdown": [
       "TRUE"
      ],
      "text/plain": [
       "[1] TRUE"
      ]
     },
     "metadata": {},
     "output_type": "display_data"
    },
    {
     "data": {
      "text/html": [
       "<style>\n",
       ".list-inline {list-style: none; margin:0; padding: 0}\n",
       ".list-inline>li {display: inline-block}\n",
       ".list-inline>li:not(:last-child)::after {content: \"\\00b7\"; padding: 0 .5ex}\n",
       "</style>\n",
       "<ol class=list-inline><li>121.547048353779</li><li>18.9334487715414</li><li>0.27433904198309</li><li>9.79658819007365</li><li>2.45112382300675</li><li>2.45112382300675</li><li>12.2477120130804</li><li>12.5220510550635</li><li>31.4554998266048</li><li>133.079055701105</li><li>16.3437354032476</li><li>2.39764699703194</li><li>1.18211007899886</li><li>1.18211007899886</li><li>2.59286451849717</li><li>0.986892557533629</li><li>0.986892557533629</li><li>19.9234924792784</li></ol>\n"
      ],
      "text/latex": [
       "\\begin{enumerate*}\n",
       "\\item 121.547048353779\n",
       "\\item 18.9334487715414\n",
       "\\item 0.27433904198309\n",
       "\\item 9.79658819007365\n",
       "\\item 2.45112382300675\n",
       "\\item 2.45112382300675\n",
       "\\item 12.2477120130804\n",
       "\\item 12.5220510550635\n",
       "\\item 31.4554998266048\n",
       "\\item 133.079055701105\n",
       "\\item 16.3437354032476\n",
       "\\item 2.39764699703194\n",
       "\\item 1.18211007899886\n",
       "\\item 1.18211007899886\n",
       "\\item 2.59286451849717\n",
       "\\item 0.986892557533629\n",
       "\\item 0.986892557533629\n",
       "\\item 19.9234924792784\n",
       "\\end{enumerate*}\n"
      ],
      "text/markdown": [
       "1. 121.547048353779\n",
       "2. 18.9334487715414\n",
       "3. 0.27433904198309\n",
       "4. 9.79658819007365\n",
       "5. 2.45112382300675\n",
       "6. 2.45112382300675\n",
       "7. 12.2477120130804\n",
       "8. 12.5220510550635\n",
       "9. 31.4554998266048\n",
       "10. 133.079055701105\n",
       "11. 16.3437354032476\n",
       "12. 2.39764699703194\n",
       "13. 1.18211007899886\n",
       "14. 1.18211007899886\n",
       "15. 2.59286451849717\n",
       "16. 0.986892557533629\n",
       "17. 0.986892557533629\n",
       "18. 19.9234924792784\n",
       "\n",
       "\n"
      ],
      "text/plain": [
       " [1] 121.5470484  18.9334488   0.2743390   9.7965882   2.4511238   2.4511238\n",
       " [7]  12.2477120  12.5220511  31.4554998 133.0790557  16.3437354   2.3976470\n",
       "[13]   1.1821101   1.1821101   2.5928645   0.9868926   0.9868926  19.9234925"
      ]
     },
     "metadata": {},
     "output_type": "display_data"
    },
    {
     "data": {
      "text/html": [
       "'(((((t6:2.45112382300675335500272922218,t8:2.45112382300675335500272922218):9.79658819007364911612967262045,t3:12.2477120130804024711324018426):0.274339041983090226040076231584,t4:12.5220510550634926971724780742):18.933448771541357302794494899,t10:31.4554998266048499999669729732):121.547048353778492923993326258,(((t5:1.18211007899886055838578613475,t1:1.18211007899886055838578613475):2.39764699703194139601691858843,(t7:0.98689255753362914447279763408,t2:0.98689255753362914447279763408):2.5928645184971728099299070891):16.3437354032475887777309253579,t9:19.9234924792783907321336300811):133.07905570110494863911299035);\\n'"
      ],
      "text/latex": [
       "'(((((t6:2.45112382300675335500272922218,t8:2.45112382300675335500272922218):9.79658819007364911612967262045,t3:12.2477120130804024711324018426):0.274339041983090226040076231584,t4:12.5220510550634926971724780742):18.933448771541357302794494899,t10:31.4554998266048499999669729732):121.547048353778492923993326258,(((t5:1.18211007899886055838578613475,t1:1.18211007899886055838578613475):2.39764699703194139601691858843,(t7:0.98689255753362914447279763408,t2:0.98689255753362914447279763408):2.5928645184971728099299070891):16.3437354032475887777309253579,t9:19.9234924792783907321336300811):133.07905570110494863911299035);\\textbackslash{}n'"
      ],
      "text/markdown": [
       "'(((((t6:2.45112382300675335500272922218,t8:2.45112382300675335500272922218):9.79658819007364911612967262045,t3:12.2477120130804024711324018426):0.274339041983090226040076231584,t4:12.5220510550634926971724780742):18.933448771541357302794494899,t10:31.4554998266048499999669729732):121.547048353778492923993326258,(((t5:1.18211007899886055838578613475,t1:1.18211007899886055838578613475):2.39764699703194139601691858843,(t7:0.98689255753362914447279763408,t2:0.98689255753362914447279763408):2.5928645184971728099299070891):16.3437354032475887777309253579,t9:19.9234924792783907321336300811):133.07905570110494863911299035);\\n'"
      ],
      "text/plain": [
       "[1] \"(((((t6:2.45112382300675335500272922218,t8:2.45112382300675335500272922218):9.79658819007364911612967262045,t3:12.2477120130804024711324018426):0.274339041983090226040076231584,t4:12.5220510550634926971724780742):18.933448771541357302794494899,t10:31.4554998266048499999669729732):121.547048353778492923993326258,(((t5:1.18211007899886055838578613475,t1:1.18211007899886055838578613475):2.39764699703194139601691858843,(t7:0.98689255753362914447279763408,t2:0.98689255753362914447279763408):2.5928645184971728099299070891):16.3437354032475887777309253579,t9:19.9234924792783907321336300811):133.07905570110494863911299035);\\n\""
      ]
     },
     "metadata": {},
     "output_type": "display_data"
    }
   ],
   "source": [
    "print(model@modelSteps[[idx]]@phylo@l)\n",
    "ph = model@modelSteps[[idx]]@phylo\n",
    "\n",
    "wat = function(from) {\n",
    "  i <- 2 * (from@n - 1)\n",
    "\n",
    "  y <- list(edge = from@e[1:i, ], edge.length = from@l[1:i],\n",
    "            tip.label = from@tipNames[1:from@n],\n",
    "            Nnode = from@n - 1)\n",
    "\n",
    "  # make any possible 0 or negative edge lengths equal to\n",
    "  # very small number\n",
    "  print(y$edge.length <= 0)\n",
    "  y$edge.length[y$edge.length <= 0] <- .Machine$double.eps\n",
    "\n",
    "  class(y) <- 'phylo'\n",
    "\n",
    "  return(y)\n",
    "}\n",
    "ape_tr = wat(ph)\n",
    "is.ultrametric(ape_tr)\n",
    "ape_tr$edge.length\n",
    "newick(ape_tr)"
   ]
  }
 ],
 "metadata": {
  "kernelspec": {
   "display_name": "R",
   "language": "R",
   "name": "ir"
  },
  "language_info": {
   "codemirror_mode": "r",
   "file_extension": ".r",
   "mimetype": "text/x-r-source",
   "name": "R",
   "pygments_lexer": "r",
   "version": "4.2.3"
  }
 },
 "nbformat": 4,
 "nbformat_minor": 5
}
